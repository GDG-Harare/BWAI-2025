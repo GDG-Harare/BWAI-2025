{
  "cells": [
    {
      "cell_type": "markdown",
      "metadata": {
        "id": "c674Hjw2Zx1V"
      },
      "source": [
        "**change runtime to t4 gpu** // Under Harware Accelerator!:)"
      ]
    },
    {
      "cell_type": "markdown",
      "metadata": {
        "id": "ZnPRhLPJN10t"
      },
      "source": [
        "Configuring our secrets"
      ]
    },
    {
      "cell_type": "code",
      "execution_count": null,
      "metadata": {
        "id": "3u_iUaGNZwuR"
      },
      "outputs": [],
      "source": [
        "import os\n",
        "import sys\n",
        "\n",
        "if \"google.colab\" in sys.modules:\n",
        "    from google.colab import userdata\n",
        "    os.environ['HF_TOKEN'] = userdata.get(\"HF_TOKEN\")\n",
        "\n",
        "if \"HF_TOKEN\" not in os.environ:\n",
        "    raise EnvironmentError(\n",
        "        \"The Hugging Face token (HF_TOKEN) could not be found in the \"\n",
        "        \"environment variables. This token is required to download the Gemma \"\n",
        "        \"models from the Hugging Face Hub. For more information about \"\n",
        "        \"HF User Access tokens, please refer to the HF documentation \"\n",
        "        \"here: https://huggingface.co/docs/hub/en/security-tokens.\"\n",
        "    )\n",
        "\n"
      ]
    },
    {
      "cell_type": "markdown",
      "metadata": {
        "id": "BgLalQGSeU-0"
      },
      "source": [
        "# **Synthetic data generation with Gemma 3**\n",
        "\n",
        "![1_J4E0lG6SKx4TSopR2xZsrQ.webp](data:image/webp;base64,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)\n",
        "## What's distilabel?\n",
        "\n",
        "Distilabel is a framework designed for generating synthetic data and AI feedback, tailored for engineers working on scalable, reliable pipelines based on verified research. It supports a variety of use cases, including traditional NLP tasks like classification and extraction, as well as generative scenarios like instruction following and dialogue generation. With its programmatic approach, Distilabel accelerates AI development by enabling the rapid creation of high-quality, diverse datasets."
      ]
    },
    {
      "cell_type": "code",
      "execution_count": null,
      "metadata": {
        "id": "IQmoDbL0eE2P"
      },
      "outputs": [],
      "source": []
    },
    {
      "cell_type": "code",
      "execution_count": null,
      "metadata": {
        "id": "WYSsjd-6eM8U"
      },
      "outputs": [],
      "source": [
        "\n",
        "!pip install -q distilabel==1.4.2"
      ]
    },
    {
      "cell_type": "markdown",
      "metadata": {
        "id": "ezsNQVRlfNLo"
      },
      "source": [
        "### Initializing **Gemma 2** **model**\n",
        "\n",
        "In this example, we don't need to initialize Gemma ourselves; this is handled by distilabel within the pipeline. The good news is that distilabel is fully compatible with Hugging Face Model Hub, so it will retrieve the model directly! There's no need to set up the model or tokenizer manually"
      ]
    },
    {
      "cell_type": "code",
      "execution_count": null,
      "metadata": {
        "id": "t-WRnD6ieNAS"
      },
      "outputs": [],
      "source": [
        "model_name = \"google/gemma-2-2b-it\"\n"
      ]
    },
    {
      "cell_type": "code",
      "execution_count": null,
      "metadata": {
        "id": "uFmzcg-BeFTb"
      },
      "outputs": [],
      "source": [
        "model_name= \"google/gemma-3-27b-it\""
      ]
    },
    {
      "cell_type": "markdown",
      "metadata": {
        "id": "Xe1-xaZZf17A"
      },
      "source": [
        "Basic example\n",
        "\n",
        "In this example, you'll see how to use Gemma on a very small dataset used by distilabel for testing. It contains only 10 rows of data, as shown below. The dataset can be explored here."
      ]
    },
    {
      "cell_type": "code",
      "execution_count": null,
      "metadata": {
        "id": "eVCp5a9Df4O6"
      },
      "outputs": [],
      "source": [
        "import json\n",
        "import pandas as pd\n",
        "from distilabel.llms import TransformersLLM\n",
        "from distilabel.pipeline import Pipeline\n",
        "from distilabel.steps import LoadDataFromHub, LoadDataFromDicts, LoadDataFromDicts\n",
        "from distilabel.steps.tasks import TextGeneration"
      ]
    },
    {
      "cell_type": "code",
      "execution_count": null,
      "metadata": {
        "id": "OS5DYkxBgCOm"
      },
      "outputs": [],
      "source": [
        "with Pipeline() as simple_pipeline:\n",
        "    load_data = LoadDataFromHub(\n",
        "        output_mappings={\"prompt\": \"instruction\"}\n",
        "    )\n",
        "    text_generation = TextGeneration(\n",
        "        llm=TransformersLLM(model=model_name)\n",
        "    )\n",
        "    load_data >> text_generation"
      ]
    },
    {
      "cell_type": "code",
      "execution_count": null,
      "metadata": {
        "colab": {
          "base_uri": "https://localhost:8080/",
          "height": 973
        },
        "id": "nyfQc0Y_gjdp",
        "outputId": "31e5589a-e57f-4c41-c8b7-ddcf267c8321"
      },
      "outputs": [
        {
          "data": {
            "application/vnd.google.colaboratory.intrinsic+json": {
              "summary": "{\n  \"name\": \"pd\",\n  \"rows\": 10,\n  \"fields\": [\n    {\n      \"column\": \"instruction\",\n      \"properties\": {\n        \"dtype\": \"string\",\n        \"num_unique_values\": 10,\n        \"samples\": [\n          \"Joe Biden is the Nth president of the United States. What is N?\",\n          \"Write a plot summary for a comedic novel involving Elon Musk and sea travel.\",\n          \"Tell me what the following code does\\r\\n\\r\\nimport json\\r\\ncsv_file = open('csv_file.txt', 'r')\\r\\njson_list = []\\r\\nfor line in csv_file.readlines():\\r\\n    club, city, country = line.strip().split(',')\\r\\n    json_dict = {'club': club,\\r\\n                 'city': city,\\r\\n                 'country': country\\r\\n    }\\r\\n    json_list.append(json_dict)\\r\\ncsv_file.close()\"\n        ],\n        \"semantic_type\": \"\",\n        \"description\": \"\"\n      }\n    },\n    {\n      \"column\": \"completion\",\n      \"properties\": {\n        \"dtype\": \"string\",\n        \"num_unique_values\": 10,\n        \"samples\": [\n          \"46\",\n          \"Elon Musk hires a team of experts to build the ultimate yacht, but when the yacht is completed, he realizes that he has no idea how to sail it. With the help of a quirky crew and a fearless captain, the playboy embarks on a wild and hilarious adventure across the open seas, where the crew have to keep Elon alive despite his inability to do anything himself. All the while, Elon takes credit for their hard work.\",\n          \"In short, the code reads in a CSV file containing 3 columns (club, city, country), and converts it into a list of jsons.\\r\\n\\r\\nIn more detail:\\r\\nThis code imports the JSON package, then it opens a text file called 'csv_file.txt' and assigns this file to the variable 'csv_file'. Next, an empty list called json_list is created. The code then loops through the lines of the content of the text file, strips the lines of all white spaces, and splits each word by a comma. \\r\\nThen a dictionary is created with 3 keys (club, city, and country) and 3 values (club, city, and country) respectively. Then this json_dict now in JSON format is added to the json_list created earlier. \\r\\nThe csv_file text file is then closed.\"\n        ],\n        \"semantic_type\": \"\",\n        \"description\": \"\"\n      }\n    },\n    {\n      \"column\": \"meta\",\n      \"properties\": {\n        \"dtype\": \"object\",\n        \"semantic_type\": \"\",\n        \"description\": \"\"\n      }\n    },\n    {\n      \"column\": \"generation\",\n      \"properties\": {\n        \"dtype\": \"string\",\n        \"num_unique_values\": 10,\n        \"samples\": [\n          \"Joe Biden is the **46th** president of the United States. \\n\\nHere's how to figure that out:\\n\\n* The US has had 46 presidents since its founding. \\n*  You can find a list of all US Presidents online, or in a history book. \\n\",\n          \"## The SpaceX Seafaring Saga: A Novel\\n\\n**Logline:** When Elon Musk's ambitious plan to colonize Mars goes awry, he finds himself stranded on a deserted island with only his eccentric crew of engineers and a rusty old sailboat named \\\"The Doge.\\\" \\n\\n**Synopsis:**\\n\\nElon Musk, the self-proclaimed \\\"Dogefather\\\" of space exploration, has finally achieved his lifelong dream: sending humans to Mars. But disaster strikes! A freak solar storm throws his rocket off course, leaving him marooned on a remote Pacific island with his ragtag team of engineers - a brilliant but socially awkward astrophysicist,\",\n          \"This Python code snippet reads data from a CSV file and converts it into a list of dictionaries, which is then stored in a variable named `json_list`. Let's break down each part:\\r\\n\\r\\n**1. Importing the `json` module:**\\n\\n   - `import json`: This line imports the `json` module, which provides tools for working with JSON (JavaScript Object Notation) data.  JSON is a common format for exchanging data between applications.\\n\\n**2. Opening the CSV file:**\\n\\n   - `csv_file = open('csv_file.txt', 'r')`: This opens a file\"\n        ],\n        \"semantic_type\": \"\",\n        \"description\": \"\"\n      }\n    },\n    {\n      \"column\": \"distilabel_metadata\",\n      \"properties\": {\n        \"dtype\": \"object\",\n        \"semantic_type\": \"\",\n        \"description\": \"\"\n      }\n    },\n    {\n      \"column\": \"model_name\",\n      \"properties\": {\n        \"dtype\": \"category\",\n        \"num_unique_values\": 1,\n        \"samples\": [\n          \"google/gemma-2-2b-it\"\n        ],\n        \"semantic_type\": \"\",\n        \"description\": \"\"\n      }\n    }\n  ]\n}",
              "type": "dataframe"
            },
            "text/html": [
              "\n",
              "  <div id=\"df-94d5fa83-8b04-4575-ba90-88d18aa991ec\" class=\"colab-df-container\">\n",
              "    <div>\n",
              "<style scoped>\n",
              "    .dataframe tbody tr th:only-of-type {\n",
              "        vertical-align: middle;\n",
              "    }\n",
              "\n",
              "    .dataframe tbody tr th {\n",
              "        vertical-align: top;\n",
              "    }\n",
              "\n",
              "    .dataframe thead th {\n",
              "        text-align: right;\n",
              "    }\n",
              "</style>\n",
              "<table border=\"1\" class=\"dataframe\">\n",
              "  <thead>\n",
              "    <tr style=\"text-align: right;\">\n",
              "      <th></th>\n",
              "      <th>instruction</th>\n",
              "      <th>completion</th>\n",
              "      <th>meta</th>\n",
              "      <th>generation</th>\n",
              "      <th>distilabel_metadata</th>\n",
              "      <th>model_name</th>\n",
              "    </tr>\n",
              "  </thead>\n",
              "  <tbody>\n",
              "    <tr>\n",
              "      <th>0</th>\n",
              "      <td>Arianna has 12 chocolates more than Danny. Dan...</td>\n",
              "      <td>Denote the number of chocolates each person ha...</td>\n",
              "      <td>{'category': 'Question Answering', 'completion...</td>\n",
              "      <td>Here's how to solve this problem step-by-step:...</td>\n",
              "      <td>{'raw_input_text_generation_0': [{'content': '...</td>\n",
              "      <td>google/gemma-2-2b-it</td>\n",
              "    </tr>\n",
              "    <tr>\n",
              "      <th>1</th>\n",
              "      <td>Write a plot summary for a comedic novel invol...</td>\n",
              "      <td>Elon Musk hires a team of experts to build the...</td>\n",
              "      <td>{'category': 'Generation', 'completion': 'Elon...</td>\n",
              "      <td>## The SpaceX Seafaring Saga: A Novel\\n\\n**Log...</td>\n",
              "      <td>{'raw_input_text_generation_0': [{'content': '...</td>\n",
              "      <td>google/gemma-2-2b-it</td>\n",
              "    </tr>\n",
              "    <tr>\n",
              "      <th>2</th>\n",
              "      <td>Create a 3 turn conversation between a custome...</td>\n",
              "      <td>Clerk: How are you doing today?\\nCustomer: Gre...</td>\n",
              "      <td>{'category': 'Summarization', 'completion': 'C...</td>\n",
              "      <td>## Grocery Store Conversation\\n\\n**Customer:**...</td>\n",
              "      <td>{'raw_input_text_generation_0': [{'content': '...</td>\n",
              "      <td>google/gemma-2-2b-it</td>\n",
              "    </tr>\n",
              "    <tr>\n",
              "      <th>3</th>\n",
              "      <td>Write a poem about the sun and moon.</td>\n",
              "      <td>The sun and the moon, the guards from the sky\\...</td>\n",
              "      <td>{'category': 'Generation', 'completion': 'The ...</td>\n",
              "      <td>The Sun, a fiery orb of gold,\\nA blazing heart...</td>\n",
              "      <td>{'raw_input_text_generation_0': [{'content': '...</td>\n",
              "      <td>google/gemma-2-2b-it</td>\n",
              "    </tr>\n",
              "    <tr>\n",
              "      <th>4</th>\n",
              "      <td>Does Searle believe that AI can think? Explain...</td>\n",
              "      <td>No, Searle does not believe that AI can think....</td>\n",
              "      <td>{'category': 'Commonsense/logic', 'completion'...</td>\n",
              "      <td>Yes, Searle believes that AI cannot truly \"thi...</td>\n",
              "      <td>{'raw_input_text_generation_0': [{'content': '...</td>\n",
              "      <td>google/gemma-2-2b-it</td>\n",
              "    </tr>\n",
              "    <tr>\n",
              "      <th>5</th>\n",
              "      <td>Tell me what the following code does\\r\\n\\r\\nim...</td>\n",
              "      <td>In short, the code reads in a CSV file contain...</td>\n",
              "      <td>{'category': 'Natural language to code', 'comp...</td>\n",
              "      <td>This Python code snippet reads data from a CSV...</td>\n",
              "      <td>{'raw_input_text_generation_0': [{'content': '...</td>\n",
              "      <td>google/gemma-2-2b-it</td>\n",
              "    </tr>\n",
              "    <tr>\n",
              "      <th>6</th>\n",
              "      <td>Can you find and correct any logical errors in...</td>\n",
              "      <td>The original code counts the number of lowerca...</td>\n",
              "      <td>{'category': 'Natural language to code', 'comp...</td>\n",
              "      <td>The provided code is actually correct for coun...</td>\n",
              "      <td>{'raw_input_text_generation_0': [{'content': '...</td>\n",
              "      <td>google/gemma-2-2b-it</td>\n",
              "    </tr>\n",
              "    <tr>\n",
              "      <th>7</th>\n",
              "      <td>I need you to write a resignation letter to my...</td>\n",
              "      <td>Hi Albert,\\nPlease accept this letter as forma...</td>\n",
              "      <td>{'category': 'Brainstorm', 'completion': 'Hi A...</td>\n",
              "      <td>[Your Address]\\n[City, State, Zip Code]\\n[Emai...</td>\n",
              "      <td>{'raw_input_text_generation_0': [{'content': '...</td>\n",
              "      <td>google/gemma-2-2b-it</td>\n",
              "    </tr>\n",
              "    <tr>\n",
              "      <th>8</th>\n",
              "      <td>Joe Biden is the Nth president of the United S...</td>\n",
              "      <td>46</td>\n",
              "      <td>{'category': 'Commonsense/logic', 'completion'...</td>\n",
              "      <td>Joe Biden is the **46th** president of the Uni...</td>\n",
              "      <td>{'raw_input_text_generation_0': [{'content': '...</td>\n",
              "      <td>google/gemma-2-2b-it</td>\n",
              "    </tr>\n",
              "    <tr>\n",
              "      <th>9</th>\n",
              "      <td>Write a four-sentence horror story about sleep...</td>\n",
              "      <td>I woke up at 7 am after having nightmares the ...</td>\n",
              "      <td>{'category': 'Generation', 'completion': 'I wo...</td>\n",
              "      <td>The clock ticked, each second echoing in the s...</td>\n",
              "      <td>{'raw_input_text_generation_0': [{'content': '...</td>\n",
              "      <td>google/gemma-2-2b-it</td>\n",
              "    </tr>\n",
              "  </tbody>\n",
              "</table>\n",
              "</div>\n",
              "    <div class=\"colab-df-buttons\">\n",
              "\n",
              "  <div class=\"colab-df-container\">\n",
              "    <button class=\"colab-df-convert\" onclick=\"convertToInteractive('df-94d5fa83-8b04-4575-ba90-88d18aa991ec')\"\n",
              "            title=\"Convert this dataframe to an interactive table.\"\n",
              "            style=\"display:none;\">\n",
              "\n",
              "  <svg xmlns=\"http://www.w3.org/2000/svg\" height=\"24px\" viewBox=\"0 -960 960 960\">\n",
              "    <path d=\"M120-120v-720h720v720H120Zm60-500h600v-160H180v160Zm220 220h160v-160H400v160Zm0 220h160v-160H400v160ZM180-400h160v-160H180v160Zm440 0h160v-160H620v160ZM180-180h160v-160H180v160Zm440 0h160v-160H620v160Z\"/>\n",
              "  </svg>\n",
              "    </button>\n",
              "\n",
              "  <style>\n",
              "    .colab-df-container {\n",
              "      display:flex;\n",
              "      gap: 12px;\n",
              "    }\n",
              "\n",
              "    .colab-df-convert {\n",
              "      background-color: #E8F0FE;\n",
              "      border: none;\n",
              "      border-radius: 50%;\n",
              "      cursor: pointer;\n",
              "      display: none;\n",
              "      fill: #1967D2;\n",
              "      height: 32px;\n",
              "      padding: 0 0 0 0;\n",
              "      width: 32px;\n",
              "    }\n",
              "\n",
              "    .colab-df-convert:hover {\n",
              "      background-color: #E2EBFA;\n",
              "      box-shadow: 0px 1px 2px rgba(60, 64, 67, 0.3), 0px 1px 3px 1px rgba(60, 64, 67, 0.15);\n",
              "      fill: #174EA6;\n",
              "    }\n",
              "\n",
              "    .colab-df-buttons div {\n",
              "      margin-bottom: 4px;\n",
              "    }\n",
              "\n",
              "    [theme=dark] .colab-df-convert {\n",
              "      background-color: #3B4455;\n",
              "      fill: #D2E3FC;\n",
              "    }\n",
              "\n",
              "    [theme=dark] .colab-df-convert:hover {\n",
              "      background-color: #434B5C;\n",
              "      box-shadow: 0px 1px 3px 1px rgba(0, 0, 0, 0.15);\n",
              "      filter: drop-shadow(0px 1px 2px rgba(0, 0, 0, 0.3));\n",
              "      fill: #FFFFFF;\n",
              "    }\n",
              "  </style>\n",
              "\n",
              "    <script>\n",
              "      const buttonEl =\n",
              "        document.querySelector('#df-94d5fa83-8b04-4575-ba90-88d18aa991ec button.colab-df-convert');\n",
              "      buttonEl.style.display =\n",
              "        google.colab.kernel.accessAllowed ? 'block' : 'none';\n",
              "\n",
              "      async function convertToInteractive(key) {\n",
              "        const element = document.querySelector('#df-94d5fa83-8b04-4575-ba90-88d18aa991ec');\n",
              "        const dataTable =\n",
              "          await google.colab.kernel.invokeFunction('convertToInteractive',\n",
              "                                                    [key], {});\n",
              "        if (!dataTable) return;\n",
              "\n",
              "        const docLinkHtml = 'Like what you see? Visit the ' +\n",
              "          '<a target=\"_blank\" href=https://colab.research.google.com/notebooks/data_table.ipynb>data table notebook</a>'\n",
              "          + ' to learn more about interactive tables.';\n",
              "        element.innerHTML = '';\n",
              "        dataTable['output_type'] = 'display_data';\n",
              "        await google.colab.output.renderOutput(dataTable, element);\n",
              "        const docLink = document.createElement('div');\n",
              "        docLink.innerHTML = docLinkHtml;\n",
              "        element.appendChild(docLink);\n",
              "      }\n",
              "    </script>\n",
              "  </div>\n",
              "\n",
              "\n",
              "<div id=\"df-148ef44f-1c01-40bd-b8e2-92ecf18c9c11\">\n",
              "  <button class=\"colab-df-quickchart\" onclick=\"quickchart('df-148ef44f-1c01-40bd-b8e2-92ecf18c9c11')\"\n",
              "            title=\"Suggest charts\"\n",
              "            style=\"display:none;\">\n",
              "\n",
              "<svg xmlns=\"http://www.w3.org/2000/svg\" height=\"24px\"viewBox=\"0 0 24 24\"\n",
              "     width=\"24px\">\n",
              "    <g>\n",
              "        <path d=\"M19 3H5c-1.1 0-2 .9-2 2v14c0 1.1.9 2 2 2h14c1.1 0 2-.9 2-2V5c0-1.1-.9-2-2-2zM9 17H7v-7h2v7zm4 0h-2V7h2v10zm4 0h-2v-4h2v4z\"/>\n",
              "    </g>\n",
              "</svg>\n",
              "  </button>\n",
              "\n",
              "<style>\n",
              "  .colab-df-quickchart {\n",
              "      --bg-color: #E8F0FE;\n",
              "      --fill-color: #1967D2;\n",
              "      --hover-bg-color: #E2EBFA;\n",
              "      --hover-fill-color: #174EA6;\n",
              "      --disabled-fill-color: #AAA;\n",
              "      --disabled-bg-color: #DDD;\n",
              "  }\n",
              "\n",
              "  [theme=dark] .colab-df-quickchart {\n",
              "      --bg-color: #3B4455;\n",
              "      --fill-color: #D2E3FC;\n",
              "      --hover-bg-color: #434B5C;\n",
              "      --hover-fill-color: #FFFFFF;\n",
              "      --disabled-bg-color: #3B4455;\n",
              "      --disabled-fill-color: #666;\n",
              "  }\n",
              "\n",
              "  .colab-df-quickchart {\n",
              "    background-color: var(--bg-color);\n",
              "    border: none;\n",
              "    border-radius: 50%;\n",
              "    cursor: pointer;\n",
              "    display: none;\n",
              "    fill: var(--fill-color);\n",
              "    height: 32px;\n",
              "    padding: 0;\n",
              "    width: 32px;\n",
              "  }\n",
              "\n",
              "  .colab-df-quickchart:hover {\n",
              "    background-color: var(--hover-bg-color);\n",
              "    box-shadow: 0 1px 2px rgba(60, 64, 67, 0.3), 0 1px 3px 1px rgba(60, 64, 67, 0.15);\n",
              "    fill: var(--button-hover-fill-color);\n",
              "  }\n",
              "\n",
              "  .colab-df-quickchart-complete:disabled,\n",
              "  .colab-df-quickchart-complete:disabled:hover {\n",
              "    background-color: var(--disabled-bg-color);\n",
              "    fill: var(--disabled-fill-color);\n",
              "    box-shadow: none;\n",
              "  }\n",
              "\n",
              "  .colab-df-spinner {\n",
              "    border: 2px solid var(--fill-color);\n",
              "    border-color: transparent;\n",
              "    border-bottom-color: var(--fill-color);\n",
              "    animation:\n",
              "      spin 1s steps(1) infinite;\n",
              "  }\n",
              "\n",
              "  @keyframes spin {\n",
              "    0% {\n",
              "      border-color: transparent;\n",
              "      border-bottom-color: var(--fill-color);\n",
              "      border-left-color: var(--fill-color);\n",
              "    }\n",
              "    20% {\n",
              "      border-color: transparent;\n",
              "      border-left-color: var(--fill-color);\n",
              "      border-top-color: var(--fill-color);\n",
              "    }\n",
              "    30% {\n",
              "      border-color: transparent;\n",
              "      border-left-color: var(--fill-color);\n",
              "      border-top-color: var(--fill-color);\n",
              "      border-right-color: var(--fill-color);\n",
              "    }\n",
              "    40% {\n",
              "      border-color: transparent;\n",
              "      border-right-color: var(--fill-color);\n",
              "      border-top-color: var(--fill-color);\n",
              "    }\n",
              "    60% {\n",
              "      border-color: transparent;\n",
              "      border-right-color: var(--fill-color);\n",
              "    }\n",
              "    80% {\n",
              "      border-color: transparent;\n",
              "      border-right-color: var(--fill-color);\n",
              "      border-bottom-color: var(--fill-color);\n",
              "    }\n",
              "    90% {\n",
              "      border-color: transparent;\n",
              "      border-bottom-color: var(--fill-color);\n",
              "    }\n",
              "  }\n",
              "</style>\n",
              "\n",
              "  <script>\n",
              "    async function quickchart(key) {\n",
              "      const quickchartButtonEl =\n",
              "        document.querySelector('#' + key + ' button');\n",
              "      quickchartButtonEl.disabled = true;  // To prevent multiple clicks.\n",
              "      quickchartButtonEl.classList.add('colab-df-spinner');\n",
              "      try {\n",
              "        const charts = await google.colab.kernel.invokeFunction(\n",
              "            'suggestCharts', [key], {});\n",
              "      } catch (error) {\n",
              "        console.error('Error during call to suggestCharts:', error);\n",
              "      }\n",
              "      quickchartButtonEl.classList.remove('colab-df-spinner');\n",
              "      quickchartButtonEl.classList.add('colab-df-quickchart-complete');\n",
              "    }\n",
              "    (() => {\n",
              "      let quickchartButtonEl =\n",
              "        document.querySelector('#df-148ef44f-1c01-40bd-b8e2-92ecf18c9c11 button');\n",
              "      quickchartButtonEl.style.display =\n",
              "        google.colab.kernel.accessAllowed ? 'block' : 'none';\n",
              "    })();\n",
              "  </script>\n",
              "</div>\n",
              "\n",
              "    </div>\n",
              "  </div>\n"
            ],
            "text/plain": [
              "                                         instruction  \\\n",
              "0  Arianna has 12 chocolates more than Danny. Dan...   \n",
              "1  Write a plot summary for a comedic novel invol...   \n",
              "2  Create a 3 turn conversation between a custome...   \n",
              "3               Write a poem about the sun and moon.   \n",
              "4  Does Searle believe that AI can think? Explain...   \n",
              "5  Tell me what the following code does\\r\\n\\r\\nim...   \n",
              "6  Can you find and correct any logical errors in...   \n",
              "7  I need you to write a resignation letter to my...   \n",
              "8  Joe Biden is the Nth president of the United S...   \n",
              "9  Write a four-sentence horror story about sleep...   \n",
              "\n",
              "                                          completion  \\\n",
              "0  Denote the number of chocolates each person ha...   \n",
              "1  Elon Musk hires a team of experts to build the...   \n",
              "2  Clerk: How are you doing today?\\nCustomer: Gre...   \n",
              "3  The sun and the moon, the guards from the sky\\...   \n",
              "4  No, Searle does not believe that AI can think....   \n",
              "5  In short, the code reads in a CSV file contain...   \n",
              "6  The original code counts the number of lowerca...   \n",
              "7  Hi Albert,\\nPlease accept this letter as forma...   \n",
              "8                                                 46   \n",
              "9  I woke up at 7 am after having nightmares the ...   \n",
              "\n",
              "                                                meta  \\\n",
              "0  {'category': 'Question Answering', 'completion...   \n",
              "1  {'category': 'Generation', 'completion': 'Elon...   \n",
              "2  {'category': 'Summarization', 'completion': 'C...   \n",
              "3  {'category': 'Generation', 'completion': 'The ...   \n",
              "4  {'category': 'Commonsense/logic', 'completion'...   \n",
              "5  {'category': 'Natural language to code', 'comp...   \n",
              "6  {'category': 'Natural language to code', 'comp...   \n",
              "7  {'category': 'Brainstorm', 'completion': 'Hi A...   \n",
              "8  {'category': 'Commonsense/logic', 'completion'...   \n",
              "9  {'category': 'Generation', 'completion': 'I wo...   \n",
              "\n",
              "                                          generation  \\\n",
              "0  Here's how to solve this problem step-by-step:...   \n",
              "1  ## The SpaceX Seafaring Saga: A Novel\\n\\n**Log...   \n",
              "2  ## Grocery Store Conversation\\n\\n**Customer:**...   \n",
              "3  The Sun, a fiery orb of gold,\\nA blazing heart...   \n",
              "4  Yes, Searle believes that AI cannot truly \"thi...   \n",
              "5  This Python code snippet reads data from a CSV...   \n",
              "6  The provided code is actually correct for coun...   \n",
              "7  [Your Address]\\n[City, State, Zip Code]\\n[Emai...   \n",
              "8  Joe Biden is the **46th** president of the Uni...   \n",
              "9  The clock ticked, each second echoing in the s...   \n",
              "\n",
              "                                 distilabel_metadata            model_name  \n",
              "0  {'raw_input_text_generation_0': [{'content': '...  google/gemma-2-2b-it  \n",
              "1  {'raw_input_text_generation_0': [{'content': '...  google/gemma-2-2b-it  \n",
              "2  {'raw_input_text_generation_0': [{'content': '...  google/gemma-2-2b-it  \n",
              "3  {'raw_input_text_generation_0': [{'content': '...  google/gemma-2-2b-it  \n",
              "4  {'raw_input_text_generation_0': [{'content': '...  google/gemma-2-2b-it  \n",
              "5  {'raw_input_text_generation_0': [{'content': '...  google/gemma-2-2b-it  \n",
              "6  {'raw_input_text_generation_0': [{'content': '...  google/gemma-2-2b-it  \n",
              "7  {'raw_input_text_generation_0': [{'content': '...  google/gemma-2-2b-it  \n",
              "8  {'raw_input_text_generation_0': [{'content': '...  google/gemma-2-2b-it  \n",
              "9  {'raw_input_text_generation_0': [{'content': '...  google/gemma-2-2b-it  "
            ]
          },
          "execution_count": 25,
          "metadata": {},
          "output_type": "execute_result"
        }
      ],
      "source": [
        "\n",
        "# Display the output dataset as Pandas DF\n",
        "pd.DataFrame(simple_pipeline_output[\"default\"][\"train\"])"
      ]
    },
    {
      "cell_type": "markdown",
      "metadata": {
        "id": "LuzAu3nETGXO"
      },
      "source": [
        "# **Creating Custom Data Sets**"
      ]
    },
    {
      "cell_type": "code",
      "execution_count": null,
      "metadata": {
        "colab": {
          "background_save": true,
          "base_uri": "https://localhost:8080/"
        },
        "id": "3Hu7QlrniUkS",
        "outputId": "2e06d4a8-7b68-4439-bb52-347c5087bd7a"
      },
      "outputs": [
        {
          "name": "stdout",
          "output_type": "stream",
          "text": [
            "Generate 10 realistic credit history records in JSON format.\n",
            "        Each record should include:\n",
            "        - applicant_name (string)\n",
            "        - ssn (string, format: XXX-XX-XXXX)\n",
            "        - dob (string, format: YYYY-MM-DD)\n",
            "        - credit_score (integer, range: 600-850)\n",
            "        - history_length (integer, range: 1-20)\n",
            "        - payment_history (object with on_time and late_payments)\n",
            "        - credit_utilization (float, range: 0.1-0.8)\n",
            "        \n",
            "        Return as a JSON array of objects without any extra text or explanation.\n"
          ]
        }
      ],
      "source": [
        "from typing import List\n",
        "\n",
        "def prepare_credit_history_prompt(count: int = 10):\n",
        "    prompt = f\"\"\"Generate {count} realistic credit history records in JSON format.\n",
        "        Each record should include:\n",
        "        - applicant_name (string)\n",
        "        - ssn (string, format: XXX-XX-XXXX)\n",
        "        - dob (string, format: YYYY-MM-DD)\n",
        "        - credit_score (integer, range: 600-850)\n",
        "        - history_length (integer, range: 1-20)\n",
        "        - payment_history (object with on_time and late_payments)\n",
        "        - credit_utilization (float, range: 0.1-0.8)\n",
        "\n",
        "        Return as a JSON array of objects without any extra text or explanation.\"\"\"\n",
        "    return prompt\n",
        "\n",
        "credit_history_prompt = prepare_credit_history_prompt(count=10)\n",
        "print(credit_history_prompt)"
      ]
    },
    {
      "cell_type": "code",
      "execution_count": null,
      "metadata": {
        "colab": {
          "base_uri": "https://localhost:8080/",
          "height": 1000,
          "referenced_widgets": [
            "083b2d9980c14e3da1aea888c46487da",
            "23a74ecc8e8646cda97bd4d45dff83fd",
            "4a2642254f504279880193752221a816",
            "2f59a4f9e6604460b9c309fcbec65a17",
            "f281ca17c6f2419493cead04d4d1cfd8",
            "4ff786d8470e487ca4bc2474723750b7",
            "f1c59b30501b4a5e9b33f3a0c196dcb7",
            "012386b0c0ae480ab01c43939f3e92c2",
            "afd4a92dfc374dbe99b16961fcb0a830",
            "bc4cfa53b3bf406199c09875f2d2a01d",
            "6828d880f24841438c90d2661c7440de"
          ]
        },
        "id": "eu3bpnnogCn3",
        "outputId": "68915012-e000-4c84-e027-b6dd62f0a01d"
      },
      "outputs": [
        {
          "data": {
            "text/html": [
              "<pre style=\"white-space:pre;overflow-x:auto;line-height:normal;font-family:Menlo,'DejaVu Sans Mono',consolas,'Courier New',monospace\"><span style=\"color: #7fbfbf; text-decoration-color: #7fbfbf\">[04/05/25 09:26:42] </span><span style=\"color: #000080; text-decoration-color: #000080\">INFO    </span> <span style=\"font-weight: bold\">[</span><span style=\"color: #008000; text-decoration-color: #008000\">'distilabel.pipeline'</span><span style=\"font-weight: bold\">]</span> 📝 Pipeline data will be written to                <a href=\"file:///usr/local/lib/python3.11/dist-packages/distilabel/pipeline/base.py\" target=\"_blank\"><span style=\"color: #7f7f7f; text-decoration-color: #7f7f7f\">base.py</span></a><span style=\"color: #7f7f7f; text-decoration-color: #7f7f7f\">:</span><a href=\"file:///usr/local/lib/python3.11/dist-packages/distilabel/pipeline/base.py#866\" target=\"_blank\"><span style=\"color: #7f7f7f; text-decoration-color: #7f7f7f\">866</span></a>\n",
              "<span style=\"color: #7fbfbf; text-decoration-color: #7fbfbf\">                    </span>         <span style=\"color: #008000; text-decoration-color: #008000\">'/root/.cache/distilabel/pipelines/pipeline_load_data_text_generation_0/20</span> <span style=\"color: #7f7f7f; text-decoration-color: #7f7f7f\">           </span>\n",
              "<span style=\"color: #7fbfbf; text-decoration-color: #7fbfbf\">                    </span>         <span style=\"color: #008000; text-decoration-color: #008000\">f1ed8f53124e9d663e7cd3a90e46c439cbbcbb/executions/7d2b3d0bf9f1690e98317906</span> <span style=\"color: #7f7f7f; text-decoration-color: #7f7f7f\">           </span>\n",
              "<span style=\"color: #7fbfbf; text-decoration-color: #7fbfbf\">                    </span>         <span style=\"color: #008000; text-decoration-color: #008000\">875b508e18aecfc4/data/steps_outputs'</span>                                       <span style=\"color: #7f7f7f; text-decoration-color: #7f7f7f\">           </span>\n",
              "</pre>\n"
            ],
            "text/plain": [
              "\u001b[2;36m[04/05/25 09:26:42]\u001b[0m\u001b[2;36m \u001b[0m\u001b[34mINFO    \u001b[0m \u001b[1m[\u001b[0m\u001b[32m'distilabel.pipeline'\u001b[0m\u001b[1m]\u001b[0m 📝 Pipeline data will be written to                \u001b]8;id=647454;file:///usr/local/lib/python3.11/dist-packages/distilabel/pipeline/base.py\u001b\\\u001b[2mbase.py\u001b[0m\u001b]8;;\u001b\\\u001b[2m:\u001b[0m\u001b]8;id=648606;file:///usr/local/lib/python3.11/dist-packages/distilabel/pipeline/base.py#866\u001b\\\u001b[2m866\u001b[0m\u001b]8;;\u001b\\\n",
              "\u001b[2;36m                    \u001b[0m         \u001b[32m'/root/.cache/distilabel/pipelines/pipeline_load_data_text_generation_0/20\u001b[0m \u001b[2m           \u001b[0m\n",
              "\u001b[2;36m                    \u001b[0m         \u001b[32mf1ed8f53124e9d663e7cd3a90e46c439cbbcbb/executions/7d2b3d0bf9f1690e98317906\u001b[0m \u001b[2m           \u001b[0m\n",
              "\u001b[2;36m                    \u001b[0m         \u001b[32m875b508e18aecfc4/data/steps_outputs'\u001b[0m                                       \u001b[2m           \u001b[0m\n"
            ]
          },
          "metadata": {},
          "output_type": "display_data"
        },
        {
          "data": {
            "text/html": [
              "<pre style=\"white-space:pre;overflow-x:auto;line-height:normal;font-family:Menlo,'DejaVu Sans Mono',consolas,'Courier New',monospace\"><span style=\"color: #7fbfbf; text-decoration-color: #7fbfbf\">                    </span><span style=\"color: #000080; text-decoration-color: #000080\">INFO    </span> <span style=\"font-weight: bold\">[</span><span style=\"color: #008000; text-decoration-color: #008000\">'distilabel.pipeline'</span><span style=\"font-weight: bold\">]</span> ⌛ The steps of the pipeline will be loaded in     <a href=\"file:///usr/local/lib/python3.11/dist-packages/distilabel/pipeline/base.py\" target=\"_blank\"><span style=\"color: #7f7f7f; text-decoration-color: #7f7f7f\">base.py</span></a><span style=\"color: #7f7f7f; text-decoration-color: #7f7f7f\">:</span><a href=\"file:///usr/local/lib/python3.11/dist-packages/distilabel/pipeline/base.py#889\" target=\"_blank\"><span style=\"color: #7f7f7f; text-decoration-color: #7f7f7f\">889</span></a>\n",
              "<span style=\"color: #7fbfbf; text-decoration-color: #7fbfbf\">                    </span>         stages:                                                                    <span style=\"color: #7f7f7f; text-decoration-color: #7f7f7f\">           </span>\n",
              "<span style=\"color: #7fbfbf; text-decoration-color: #7fbfbf\">                    </span>          * Stage <span style=\"color: #008080; text-decoration-color: #008080; font-weight: bold\">0</span>:                                                                <span style=\"color: #7f7f7f; text-decoration-color: #7f7f7f\">           </span>\n",
              "<span style=\"color: #7fbfbf; text-decoration-color: #7fbfbf\">                    </span>            - <span style=\"color: #008000; text-decoration-color: #008000\">'load_data'</span>                                                           <span style=\"color: #7f7f7f; text-decoration-color: #7f7f7f\">           </span>\n",
              "<span style=\"color: #7fbfbf; text-decoration-color: #7fbfbf\">                    </span>            - <span style=\"color: #008000; text-decoration-color: #008000\">'text_generation_0'</span>                                                   <span style=\"color: #7f7f7f; text-decoration-color: #7f7f7f\">           </span>\n",
              "</pre>\n"
            ],
            "text/plain": [
              "\u001b[2;36m                   \u001b[0m\u001b[2;36m \u001b[0m\u001b[34mINFO    \u001b[0m \u001b[1m[\u001b[0m\u001b[32m'distilabel.pipeline'\u001b[0m\u001b[1m]\u001b[0m ⌛ The steps of the pipeline will be loaded in     \u001b]8;id=307918;file:///usr/local/lib/python3.11/dist-packages/distilabel/pipeline/base.py\u001b\\\u001b[2mbase.py\u001b[0m\u001b]8;;\u001b\\\u001b[2m:\u001b[0m\u001b]8;id=153131;file:///usr/local/lib/python3.11/dist-packages/distilabel/pipeline/base.py#889\u001b\\\u001b[2m889\u001b[0m\u001b]8;;\u001b\\\n",
              "\u001b[2;36m                    \u001b[0m         stages:                                                                    \u001b[2m           \u001b[0m\n",
              "\u001b[2;36m                    \u001b[0m          * Stage \u001b[1;36m0\u001b[0m:                                                                \u001b[2m           \u001b[0m\n",
              "\u001b[2;36m                    \u001b[0m            - \u001b[32m'load_data'\u001b[0m                                                           \u001b[2m           \u001b[0m\n",
              "\u001b[2;36m                    \u001b[0m            - \u001b[32m'text_generation_0'\u001b[0m                                                   \u001b[2m           \u001b[0m\n"
            ]
          },
          "metadata": {},
          "output_type": "display_data"
        },
        {
          "data": {
            "text/html": [
              "<pre style=\"white-space:pre;overflow-x:auto;line-height:normal;font-family:Menlo,'DejaVu Sans Mono',consolas,'Courier New',monospace\"><span style=\"color: #7fbfbf; text-decoration-color: #7fbfbf\">[04/05/25 09:26:43] </span><span style=\"color: #000080; text-decoration-color: #000080\">INFO    </span> <span style=\"font-weight: bold\">[</span><span style=\"color: #008000; text-decoration-color: #008000\">'distilabel.pipeline'</span><span style=\"font-weight: bold\">]</span> ⏳ Waiting for all the steps of stage <span style=\"color: #008080; text-decoration-color: #008080; font-weight: bold\">0</span> to        <a href=\"file:///usr/local/lib/python3.11/dist-packages/distilabel/pipeline/base.py\" target=\"_blank\"><span style=\"color: #7f7f7f; text-decoration-color: #7f7f7f\">base.py</span></a><span style=\"color: #7f7f7f; text-decoration-color: #7f7f7f\">:</span><a href=\"file:///usr/local/lib/python3.11/dist-packages/distilabel/pipeline/base.py#1183\" target=\"_blank\"><span style=\"color: #7f7f7f; text-decoration-color: #7f7f7f\">1183</span></a>\n",
              "<span style=\"color: #7fbfbf; text-decoration-color: #7fbfbf\">                    </span>         load<span style=\"color: #808000; text-decoration-color: #808000\">...</span>                                                                   <span style=\"color: #7f7f7f; text-decoration-color: #7f7f7f\">            </span>\n",
              "</pre>\n"
            ],
            "text/plain": [
              "\u001b[2;36m[04/05/25 09:26:43]\u001b[0m\u001b[2;36m \u001b[0m\u001b[34mINFO    \u001b[0m \u001b[1m[\u001b[0m\u001b[32m'distilabel.pipeline'\u001b[0m\u001b[1m]\u001b[0m ⏳ Waiting for all the steps of stage \u001b[1;36m0\u001b[0m to        \u001b]8;id=875034;file:///usr/local/lib/python3.11/dist-packages/distilabel/pipeline/base.py\u001b\\\u001b[2mbase.py\u001b[0m\u001b]8;;\u001b\\\u001b[2m:\u001b[0m\u001b]8;id=733861;file:///usr/local/lib/python3.11/dist-packages/distilabel/pipeline/base.py#1183\u001b\\\u001b[2m1183\u001b[0m\u001b]8;;\u001b\\\n",
              "\u001b[2;36m                    \u001b[0m         load\u001b[33m...\u001b[0m                                                                   \u001b[2m            \u001b[0m\n"
            ]
          },
          "metadata": {},
          "output_type": "display_data"
        },
        {
          "data": {
            "text/html": [
              "<pre style=\"white-space:pre;overflow-x:auto;line-height:normal;font-family:Menlo,'DejaVu Sans Mono',consolas,'Courier New',monospace\"><span style=\"color: #7fbfbf; text-decoration-color: #7fbfbf\">[04/05/25 09:26:45] </span><span style=\"color: #000080; text-decoration-color: #000080\">INFO    </span> <span style=\"font-weight: bold\">[</span><span style=\"color: #008000; text-decoration-color: #008000\">'distilabel.pipeline'</span><span style=\"font-weight: bold\">]</span> ⏳ Steps from stage <span style=\"color: #008080; text-decoration-color: #008080; font-weight: bold\">0</span> loaded: <span style=\"color: #008080; text-decoration-color: #008080; font-weight: bold\">1</span>/<span style=\"color: #008080; text-decoration-color: #008080; font-weight: bold\">2</span>                 <a href=\"file:///usr/local/lib/python3.11/dist-packages/distilabel/pipeline/base.py\" target=\"_blank\"><span style=\"color: #7f7f7f; text-decoration-color: #7f7f7f\">base.py</span></a><span style=\"color: #7f7f7f; text-decoration-color: #7f7f7f\">:</span><a href=\"file:///usr/local/lib/python3.11/dist-packages/distilabel/pipeline/base.py#1216\" target=\"_blank\"><span style=\"color: #7f7f7f; text-decoration-color: #7f7f7f\">1216</span></a>\n",
              "<span style=\"color: #7fbfbf; text-decoration-color: #7fbfbf\">                    </span>          * <span style=\"color: #008000; text-decoration-color: #008000\">'load_data'</span> replicas: <span style=\"color: #008080; text-decoration-color: #008080; font-weight: bold\">1</span>/<span style=\"color: #008080; text-decoration-color: #008080; font-weight: bold\">1</span>                                              <span style=\"color: #7f7f7f; text-decoration-color: #7f7f7f\">            </span>\n",
              "<span style=\"color: #7fbfbf; text-decoration-color: #7fbfbf\">                    </span>          * <span style=\"color: #008000; text-decoration-color: #008000\">'text_generation_0'</span> replicas: <span style=\"color: #008080; text-decoration-color: #008080; font-weight: bold\">0</span>/<span style=\"color: #008080; text-decoration-color: #008080; font-weight: bold\">1</span>                                      <span style=\"color: #7f7f7f; text-decoration-color: #7f7f7f\">            </span>\n",
              "</pre>\n"
            ],
            "text/plain": [
              "\u001b[2;36m[04/05/25 09:26:45]\u001b[0m\u001b[2;36m \u001b[0m\u001b[34mINFO    \u001b[0m \u001b[1m[\u001b[0m\u001b[32m'distilabel.pipeline'\u001b[0m\u001b[1m]\u001b[0m ⏳ Steps from stage \u001b[1;36m0\u001b[0m loaded: \u001b[1;36m1\u001b[0m/\u001b[1;36m2\u001b[0m                 \u001b]8;id=338098;file:///usr/local/lib/python3.11/dist-packages/distilabel/pipeline/base.py\u001b\\\u001b[2mbase.py\u001b[0m\u001b]8;;\u001b\\\u001b[2m:\u001b[0m\u001b]8;id=23991;file:///usr/local/lib/python3.11/dist-packages/distilabel/pipeline/base.py#1216\u001b\\\u001b[2m1216\u001b[0m\u001b]8;;\u001b\\\n",
              "\u001b[2;36m                    \u001b[0m          * \u001b[32m'load_data'\u001b[0m replicas: \u001b[1;36m1\u001b[0m/\u001b[1;36m1\u001b[0m                                              \u001b[2m            \u001b[0m\n",
              "\u001b[2;36m                    \u001b[0m          * \u001b[32m'text_generation_0'\u001b[0m replicas: \u001b[1;36m0\u001b[0m/\u001b[1;36m1\u001b[0m                                      \u001b[2m            \u001b[0m\n"
            ]
          },
          "metadata": {},
          "output_type": "display_data"
        },
        {
          "name": "stderr",
          "output_type": "stream",
          "text": [
            "Device set to use cuda:0\n"
          ]
        },
        {
          "data": {
            "text/html": [
              "<pre style=\"white-space:pre;overflow-x:auto;line-height:normal;font-family:Menlo,'DejaVu Sans Mono',consolas,'Courier New',monospace\"><span style=\"color: #7fbfbf; text-decoration-color: #7fbfbf\">[04/05/25 09:27:13] </span><span style=\"color: #000080; text-decoration-color: #000080\">INFO    </span> <span style=\"font-weight: bold\">[</span><span style=\"color: #008000; text-decoration-color: #008000\">'distilabel.pipeline'</span><span style=\"font-weight: bold\">]</span> ⏳ Steps from stage <span style=\"color: #008080; text-decoration-color: #008080; font-weight: bold\">0</span> loaded: <span style=\"color: #008080; text-decoration-color: #008080; font-weight: bold\">2</span>/<span style=\"color: #008080; text-decoration-color: #008080; font-weight: bold\">2</span>                 <a href=\"file:///usr/local/lib/python3.11/dist-packages/distilabel/pipeline/base.py\" target=\"_blank\"><span style=\"color: #7f7f7f; text-decoration-color: #7f7f7f\">base.py</span></a><span style=\"color: #7f7f7f; text-decoration-color: #7f7f7f\">:</span><a href=\"file:///usr/local/lib/python3.11/dist-packages/distilabel/pipeline/base.py#1216\" target=\"_blank\"><span style=\"color: #7f7f7f; text-decoration-color: #7f7f7f\">1216</span></a>\n",
              "<span style=\"color: #7fbfbf; text-decoration-color: #7fbfbf\">                    </span>          * <span style=\"color: #008000; text-decoration-color: #008000\">'load_data'</span> replicas: <span style=\"color: #008080; text-decoration-color: #008080; font-weight: bold\">1</span>/<span style=\"color: #008080; text-decoration-color: #008080; font-weight: bold\">1</span>                                              <span style=\"color: #7f7f7f; text-decoration-color: #7f7f7f\">            </span>\n",
              "<span style=\"color: #7fbfbf; text-decoration-color: #7fbfbf\">                    </span>          * <span style=\"color: #008000; text-decoration-color: #008000\">'text_generation_0'</span> replicas: <span style=\"color: #008080; text-decoration-color: #008080; font-weight: bold\">1</span>/<span style=\"color: #008080; text-decoration-color: #008080; font-weight: bold\">1</span>                                      <span style=\"color: #7f7f7f; text-decoration-color: #7f7f7f\">            </span>\n",
              "</pre>\n"
            ],
            "text/plain": [
              "\u001b[2;36m[04/05/25 09:27:13]\u001b[0m\u001b[2;36m \u001b[0m\u001b[34mINFO    \u001b[0m \u001b[1m[\u001b[0m\u001b[32m'distilabel.pipeline'\u001b[0m\u001b[1m]\u001b[0m ⏳ Steps from stage \u001b[1;36m0\u001b[0m loaded: \u001b[1;36m2\u001b[0m/\u001b[1;36m2\u001b[0m                 \u001b]8;id=168914;file:///usr/local/lib/python3.11/dist-packages/distilabel/pipeline/base.py\u001b\\\u001b[2mbase.py\u001b[0m\u001b]8;;\u001b\\\u001b[2m:\u001b[0m\u001b]8;id=682688;file:///usr/local/lib/python3.11/dist-packages/distilabel/pipeline/base.py#1216\u001b\\\u001b[2m1216\u001b[0m\u001b]8;;\u001b\\\n",
              "\u001b[2;36m                    \u001b[0m          * \u001b[32m'load_data'\u001b[0m replicas: \u001b[1;36m1\u001b[0m/\u001b[1;36m1\u001b[0m                                              \u001b[2m            \u001b[0m\n",
              "\u001b[2;36m                    \u001b[0m          * \u001b[32m'text_generation_0'\u001b[0m replicas: \u001b[1;36m1\u001b[0m/\u001b[1;36m1\u001b[0m                                      \u001b[2m            \u001b[0m\n"
            ]
          },
          "metadata": {},
          "output_type": "display_data"
        },
        {
          "data": {
            "text/html": [
              "<pre style=\"white-space:pre;overflow-x:auto;line-height:normal;font-family:Menlo,'DejaVu Sans Mono',consolas,'Courier New',monospace\"><span style=\"color: #7fbfbf; text-decoration-color: #7fbfbf\">                    </span><span style=\"color: #000080; text-decoration-color: #000080\">INFO    </span> <span style=\"font-weight: bold\">[</span><span style=\"color: #008000; text-decoration-color: #008000\">'distilabel.pipeline'</span><span style=\"font-weight: bold\">]</span> ✅ All the steps from stage <span style=\"color: #008080; text-decoration-color: #008080; font-weight: bold\">0</span> have been loaded!   <a href=\"file:///usr/local/lib/python3.11/dist-packages/distilabel/pipeline/base.py\" target=\"_blank\"><span style=\"color: #7f7f7f; text-decoration-color: #7f7f7f\">base.py</span></a><span style=\"color: #7f7f7f; text-decoration-color: #7f7f7f\">:</span><a href=\"file:///usr/local/lib/python3.11/dist-packages/distilabel/pipeline/base.py#1220\" target=\"_blank\"><span style=\"color: #7f7f7f; text-decoration-color: #7f7f7f\">1220</span></a>\n",
              "</pre>\n"
            ],
            "text/plain": [
              "\u001b[2;36m                   \u001b[0m\u001b[2;36m \u001b[0m\u001b[34mINFO    \u001b[0m \u001b[1m[\u001b[0m\u001b[32m'distilabel.pipeline'\u001b[0m\u001b[1m]\u001b[0m ✅ All the steps from stage \u001b[1;36m0\u001b[0m have been loaded!   \u001b]8;id=744194;file:///usr/local/lib/python3.11/dist-packages/distilabel/pipeline/base.py\u001b\\\u001b[2mbase.py\u001b[0m\u001b]8;;\u001b\\\u001b[2m:\u001b[0m\u001b]8;id=229245;file:///usr/local/lib/python3.11/dist-packages/distilabel/pipeline/base.py#1220\u001b\\\u001b[2m1220\u001b[0m\u001b]8;;\u001b\\\n"
            ]
          },
          "metadata": {},
          "output_type": "display_data"
        },
        {
          "data": {
            "text/html": [
              "<pre style=\"white-space:pre;overflow-x:auto;line-height:normal;font-family:Menlo,'DejaVu Sans Mono',consolas,'Courier New',monospace\"><span style=\"color: #7fbfbf; text-decoration-color: #7fbfbf\">                    </span><span style=\"color: #000080; text-decoration-color: #000080\">INFO    </span> <span style=\"font-weight: bold\">[</span><span style=\"color: #008000; text-decoration-color: #008000\">'distilabel.step.load_data'</span><span style=\"font-weight: bold\">]</span> 🧬 Starting yielding batches from    <a href=\"file:///usr/local/lib/python3.11/dist-packages/distilabel/pipeline/step_wrapper.py\" target=\"_blank\"><span style=\"color: #7f7f7f; text-decoration-color: #7f7f7f\">step_wrapper.py</span></a><span style=\"color: #7f7f7f; text-decoration-color: #7f7f7f\">:</span><a href=\"file:///usr/local/lib/python3.11/dist-packages/distilabel/pipeline/step_wrapper.py#179\" target=\"_blank\"><span style=\"color: #7f7f7f; text-decoration-color: #7f7f7f\">179</span></a>\n",
              "<span style=\"color: #7fbfbf; text-decoration-color: #7fbfbf\">                    </span>         generator step <span style=\"color: #008000; text-decoration-color: #008000\">'load_data'</span>. Offset: <span style=\"color: #008080; text-decoration-color: #008080; font-weight: bold\">0</span>                              <span style=\"color: #7f7f7f; text-decoration-color: #7f7f7f\">                   </span>\n",
              "</pre>\n"
            ],
            "text/plain": [
              "\u001b[2;36m                   \u001b[0m\u001b[2;36m \u001b[0m\u001b[34mINFO    \u001b[0m \u001b[1m[\u001b[0m\u001b[32m'distilabel.step.load_data'\u001b[0m\u001b[1m]\u001b[0m 🧬 Starting yielding batches from    \u001b]8;id=522967;file:///usr/local/lib/python3.11/dist-packages/distilabel/pipeline/step_wrapper.py\u001b\\\u001b[2mstep_wrapper.py\u001b[0m\u001b]8;;\u001b\\\u001b[2m:\u001b[0m\u001b]8;id=213799;file:///usr/local/lib/python3.11/dist-packages/distilabel/pipeline/step_wrapper.py#179\u001b\\\u001b[2m179\u001b[0m\u001b]8;;\u001b\\\n",
              "\u001b[2;36m                    \u001b[0m         generator step \u001b[32m'load_data'\u001b[0m. Offset: \u001b[1;36m0\u001b[0m                              \u001b[2m                   \u001b[0m\n"
            ]
          },
          "metadata": {},
          "output_type": "display_data"
        },
        {
          "data": {
            "text/html": [
              "<pre style=\"white-space:pre;overflow-x:auto;line-height:normal;font-family:Menlo,'DejaVu Sans Mono',consolas,'Courier New',monospace\"><span style=\"color: #7fbfbf; text-decoration-color: #7fbfbf\">                    </span><span style=\"color: #000080; text-decoration-color: #000080\">INFO    </span> <span style=\"font-weight: bold\">[</span><span style=\"color: #008000; text-decoration-color: #008000\">'distilabel.step.load_data'</span><span style=\"font-weight: bold\">]</span> 📨 Step <span style=\"color: #008000; text-decoration-color: #008000\">'load_data'</span> sending batch <span style=\"color: #008080; text-decoration-color: #008080; font-weight: bold\">0</span>  <a href=\"file:///usr/local/lib/python3.11/dist-packages/distilabel/pipeline/step_wrapper.py\" target=\"_blank\"><span style=\"color: #7f7f7f; text-decoration-color: #7f7f7f\">step_wrapper.py</span></a><span style=\"color: #7f7f7f; text-decoration-color: #7f7f7f\">:</span><a href=\"file:///usr/local/lib/python3.11/dist-packages/distilabel/pipeline/step_wrapper.py#289\" target=\"_blank\"><span style=\"color: #7f7f7f; text-decoration-color: #7f7f7f\">289</span></a>\n",
              "<span style=\"color: #7fbfbf; text-decoration-color: #7fbfbf\">                    </span>         to output queue                                                    <span style=\"color: #7f7f7f; text-decoration-color: #7f7f7f\">                   </span>\n",
              "</pre>\n"
            ],
            "text/plain": [
              "\u001b[2;36m                   \u001b[0m\u001b[2;36m \u001b[0m\u001b[34mINFO    \u001b[0m \u001b[1m[\u001b[0m\u001b[32m'distilabel.step.load_data'\u001b[0m\u001b[1m]\u001b[0m 📨 Step \u001b[32m'load_data'\u001b[0m sending batch \u001b[1;36m0\u001b[0m  \u001b]8;id=818669;file:///usr/local/lib/python3.11/dist-packages/distilabel/pipeline/step_wrapper.py\u001b\\\u001b[2mstep_wrapper.py\u001b[0m\u001b]8;;\u001b\\\u001b[2m:\u001b[0m\u001b]8;id=176163;file:///usr/local/lib/python3.11/dist-packages/distilabel/pipeline/step_wrapper.py#289\u001b\\\u001b[2m289\u001b[0m\u001b]8;;\u001b\\\n",
              "\u001b[2;36m                    \u001b[0m         to output queue                                                    \u001b[2m                   \u001b[0m\n"
            ]
          },
          "metadata": {},
          "output_type": "display_data"
        },
        {
          "data": {
            "text/html": [
              "<pre style=\"white-space:pre;overflow-x:auto;line-height:normal;font-family:Menlo,'DejaVu Sans Mono',consolas,'Courier New',monospace\"><span style=\"color: #7fbfbf; text-decoration-color: #7fbfbf\">                    </span><span style=\"color: #000080; text-decoration-color: #000080\">INFO    </span> <span style=\"font-weight: bold\">[</span><span style=\"color: #008000; text-decoration-color: #008000\">'distilabel.step.load_data'</span><span style=\"font-weight: bold\">]</span> 🏁 Finished running step <span style=\"color: #008000; text-decoration-color: #008000\">'load_data'</span> <a href=\"file:///usr/local/lib/python3.11/dist-packages/distilabel/pipeline/step_wrapper.py\" target=\"_blank\"><span style=\"color: #7f7f7f; text-decoration-color: #7f7f7f\">step_wrapper.py</span></a><span style=\"color: #7f7f7f; text-decoration-color: #7f7f7f\">:</span><a href=\"file:///usr/local/lib/python3.11/dist-packages/distilabel/pipeline/step_wrapper.py#129\" target=\"_blank\"><span style=\"color: #7f7f7f; text-decoration-color: #7f7f7f\">129</span></a>\n",
              "<span style=\"color: #7fbfbf; text-decoration-color: #7fbfbf\">                    </span>         <span style=\"font-weight: bold\">(</span>replica ID: <span style=\"color: #008080; text-decoration-color: #008080; font-weight: bold\">0</span><span style=\"font-weight: bold\">)</span>                                                    <span style=\"color: #7f7f7f; text-decoration-color: #7f7f7f\">                   </span>\n",
              "</pre>\n"
            ],
            "text/plain": [
              "\u001b[2;36m                   \u001b[0m\u001b[2;36m \u001b[0m\u001b[34mINFO    \u001b[0m \u001b[1m[\u001b[0m\u001b[32m'distilabel.step.load_data'\u001b[0m\u001b[1m]\u001b[0m 🏁 Finished running step \u001b[32m'load_data'\u001b[0m \u001b]8;id=156866;file:///usr/local/lib/python3.11/dist-packages/distilabel/pipeline/step_wrapper.py\u001b\\\u001b[2mstep_wrapper.py\u001b[0m\u001b]8;;\u001b\\\u001b[2m:\u001b[0m\u001b]8;id=281269;file:///usr/local/lib/python3.11/dist-packages/distilabel/pipeline/step_wrapper.py#129\u001b\\\u001b[2m129\u001b[0m\u001b]8;;\u001b\\\n",
              "\u001b[2;36m                    \u001b[0m         \u001b[1m(\u001b[0mreplica ID: \u001b[1;36m0\u001b[0m\u001b[1m)\u001b[0m                                                    \u001b[2m                   \u001b[0m\n"
            ]
          },
          "metadata": {},
          "output_type": "display_data"
        },
        {
          "data": {
            "text/html": [
              "<pre style=\"white-space:pre;overflow-x:auto;line-height:normal;font-family:Menlo,'DejaVu Sans Mono',consolas,'Courier New',monospace\"><span style=\"color: #7fbfbf; text-decoration-color: #7fbfbf\">                    </span><span style=\"color: #000080; text-decoration-color: #000080\">INFO    </span> <span style=\"font-weight: bold\">[</span><span style=\"color: #008000; text-decoration-color: #008000\">'distilabel.step.text_generation_0'</span><span style=\"font-weight: bold\">]</span> 📦 Processing batch <span style=\"color: #008080; text-decoration-color: #008080; font-weight: bold\">0</span> in     <a href=\"file:///usr/local/lib/python3.11/dist-packages/distilabel/pipeline/step_wrapper.py\" target=\"_blank\"><span style=\"color: #7f7f7f; text-decoration-color: #7f7f7f\">step_wrapper.py</span></a><span style=\"color: #7f7f7f; text-decoration-color: #7f7f7f\">:</span><a href=\"file:///usr/local/lib/python3.11/dist-packages/distilabel/pipeline/step_wrapper.py#229\" target=\"_blank\"><span style=\"color: #7f7f7f; text-decoration-color: #7f7f7f\">229</span></a>\n",
              "<span style=\"color: #7fbfbf; text-decoration-color: #7fbfbf\">                    </span>         <span style=\"color: #008000; text-decoration-color: #008000\">'text_generation_0'</span> <span style=\"font-weight: bold\">(</span>replica ID: <span style=\"color: #008080; text-decoration-color: #008080; font-weight: bold\">0</span><span style=\"font-weight: bold\">)</span>                                <span style=\"color: #7f7f7f; text-decoration-color: #7f7f7f\">                   </span>\n",
              "</pre>\n"
            ],
            "text/plain": [
              "\u001b[2;36m                   \u001b[0m\u001b[2;36m \u001b[0m\u001b[34mINFO    \u001b[0m \u001b[1m[\u001b[0m\u001b[32m'distilabel.step.text_generation_0'\u001b[0m\u001b[1m]\u001b[0m 📦 Processing batch \u001b[1;36m0\u001b[0m in     \u001b]8;id=72776;file:///usr/local/lib/python3.11/dist-packages/distilabel/pipeline/step_wrapper.py\u001b\\\u001b[2mstep_wrapper.py\u001b[0m\u001b]8;;\u001b\\\u001b[2m:\u001b[0m\u001b]8;id=533197;file:///usr/local/lib/python3.11/dist-packages/distilabel/pipeline/step_wrapper.py#229\u001b\\\u001b[2m229\u001b[0m\u001b]8;;\u001b\\\n",
              "\u001b[2;36m                    \u001b[0m         \u001b[32m'text_generation_0'\u001b[0m \u001b[1m(\u001b[0mreplica ID: \u001b[1;36m0\u001b[0m\u001b[1m)\u001b[0m                                \u001b[2m                   \u001b[0m\n"
            ]
          },
          "metadata": {},
          "output_type": "display_data"
        },
        {
          "data": {
            "text/html": [
              "<pre style=\"white-space:pre;overflow-x:auto;line-height:normal;font-family:Menlo,'DejaVu Sans Mono',consolas,'Courier New',monospace\"><span style=\"color: #7fbfbf; text-decoration-color: #7fbfbf\">[04/05/25 09:27:44] </span><span style=\"color: #000080; text-decoration-color: #000080\">INFO    </span> <span style=\"font-weight: bold\">[</span><span style=\"color: #008000; text-decoration-color: #008000\">'distilabel.step.text_generation_0'</span><span style=\"font-weight: bold\">]</span> 📨 Step <span style=\"color: #008000; text-decoration-color: #008000\">'text_generation_0'</span>  <a href=\"file:///usr/local/lib/python3.11/dist-packages/distilabel/pipeline/step_wrapper.py\" target=\"_blank\"><span style=\"color: #7f7f7f; text-decoration-color: #7f7f7f\">step_wrapper.py</span></a><span style=\"color: #7f7f7f; text-decoration-color: #7f7f7f\">:</span><a href=\"file:///usr/local/lib/python3.11/dist-packages/distilabel/pipeline/step_wrapper.py#289\" target=\"_blank\"><span style=\"color: #7f7f7f; text-decoration-color: #7f7f7f\">289</span></a>\n",
              "<span style=\"color: #7fbfbf; text-decoration-color: #7fbfbf\">                    </span>         sending batch <span style=\"color: #008080; text-decoration-color: #008080; font-weight: bold\">0</span> to output queue                                    <span style=\"color: #7f7f7f; text-decoration-color: #7f7f7f\">                   </span>\n",
              "</pre>\n"
            ],
            "text/plain": [
              "\u001b[2;36m[04/05/25 09:27:44]\u001b[0m\u001b[2;36m \u001b[0m\u001b[34mINFO    \u001b[0m \u001b[1m[\u001b[0m\u001b[32m'distilabel.step.text_generation_0'\u001b[0m\u001b[1m]\u001b[0m 📨 Step \u001b[32m'text_generation_0'\u001b[0m  \u001b]8;id=844625;file:///usr/local/lib/python3.11/dist-packages/distilabel/pipeline/step_wrapper.py\u001b\\\u001b[2mstep_wrapper.py\u001b[0m\u001b]8;;\u001b\\\u001b[2m:\u001b[0m\u001b]8;id=991195;file:///usr/local/lib/python3.11/dist-packages/distilabel/pipeline/step_wrapper.py#289\u001b\\\u001b[2m289\u001b[0m\u001b]8;;\u001b\\\n",
              "\u001b[2;36m                    \u001b[0m         sending batch \u001b[1;36m0\u001b[0m to output queue                                    \u001b[2m                   \u001b[0m\n"
            ]
          },
          "metadata": {},
          "output_type": "display_data"
        },
        {
          "data": {
            "text/html": [
              "<pre style=\"white-space:pre;overflow-x:auto;line-height:normal;font-family:Menlo,'DejaVu Sans Mono',consolas,'Courier New',monospace\"><span style=\"color: #7fbfbf; text-decoration-color: #7fbfbf\">                    </span><span style=\"color: #000080; text-decoration-color: #000080\">INFO    </span> <span style=\"font-weight: bold\">[</span><span style=\"color: #008000; text-decoration-color: #008000\">'distilabel.step.text_generation_0'</span><span style=\"font-weight: bold\">]</span> 🏁 Finished running step     <a href=\"file:///usr/local/lib/python3.11/dist-packages/distilabel/pipeline/step_wrapper.py\" target=\"_blank\"><span style=\"color: #7f7f7f; text-decoration-color: #7f7f7f\">step_wrapper.py</span></a><span style=\"color: #7f7f7f; text-decoration-color: #7f7f7f\">:</span><a href=\"file:///usr/local/lib/python3.11/dist-packages/distilabel/pipeline/step_wrapper.py#129\" target=\"_blank\"><span style=\"color: #7f7f7f; text-decoration-color: #7f7f7f\">129</span></a>\n",
              "<span style=\"color: #7fbfbf; text-decoration-color: #7fbfbf\">                    </span>         <span style=\"color: #008000; text-decoration-color: #008000\">'text_generation_0'</span> <span style=\"font-weight: bold\">(</span>replica ID: <span style=\"color: #008080; text-decoration-color: #008080; font-weight: bold\">0</span><span style=\"font-weight: bold\">)</span>                                <span style=\"color: #7f7f7f; text-decoration-color: #7f7f7f\">                   </span>\n",
              "</pre>\n"
            ],
            "text/plain": [
              "\u001b[2;36m                   \u001b[0m\u001b[2;36m \u001b[0m\u001b[34mINFO    \u001b[0m \u001b[1m[\u001b[0m\u001b[32m'distilabel.step.text_generation_0'\u001b[0m\u001b[1m]\u001b[0m 🏁 Finished running step     \u001b]8;id=781692;file:///usr/local/lib/python3.11/dist-packages/distilabel/pipeline/step_wrapper.py\u001b\\\u001b[2mstep_wrapper.py\u001b[0m\u001b]8;;\u001b\\\u001b[2m:\u001b[0m\u001b]8;id=652143;file:///usr/local/lib/python3.11/dist-packages/distilabel/pipeline/step_wrapper.py#129\u001b\\\u001b[2m129\u001b[0m\u001b]8;;\u001b\\\n",
              "\u001b[2;36m                    \u001b[0m         \u001b[32m'text_generation_0'\u001b[0m \u001b[1m(\u001b[0mreplica ID: \u001b[1;36m0\u001b[0m\u001b[1m)\u001b[0m                                \u001b[2m                   \u001b[0m\n"
            ]
          },
          "metadata": {},
          "output_type": "display_data"
        },
        {
          "data": {
            "application/vnd.jupyter.widget-view+json": {
              "model_id": "083b2d9980c14e3da1aea888c46487da",
              "version_major": 2,
              "version_minor": 0
            },
            "text/plain": [
              "Generating train split: 0 examples [00:00, ? examples/s]"
            ]
          },
          "metadata": {},
          "output_type": "display_data"
        },
        {
          "name": "stdout",
          "output_type": "stream",
          "text": [
            "```json\n",
            "[\n",
            "  {\n",
            "    \"applicant_name\": \"John Doe\",\n",
            "    \"ssn\": \"456-789-1234\",\n",
            "    \"dob\": \"1990-01-15\",\n",
            "    \"credit_score\": 730,\n",
            "    \"history_length\": 7,\n",
            "    \"payment_history\": {\n",
            "      \"on_time\": true,\n",
            "      \"late_payments\": false\n",
            "    },\n",
            "    \"credit_utilization\": 0.25\n",
            "  },\n",
            "  {\n",
            "    \"applicant_name\": \"Jane Smith\",\n",
            "    \"ssn\": \"123-456-7890\",\n",
            "    \"dob\": \"1985-05-20\",\n",
            "    \"credit_score\": 680,\n",
            "    \"history_length\": 12,\n",
            "    \"payment_history\": {\n",
            "      \"on_time\": true,\n",
            "      \"late_payments\": false\n",
            "    },\n",
            "    \"credit_utilization\": 0.5\n",
            "  },\n",
            "  {\n",
            "    \"applicant_name\": \"Michael Brown\",\n",
            "    \"ssn\": \"987-654-3210\",\n",
            "    \"dob\": \"1995-09-01\",\n",
            "    \"credit_score\": 780,\n",
            "    \"history_length\": 10,\n",
            "    \"payment_history\": {\n",
            "      \"on_time\": true,\n",
            "      \"late_payments\": false\n",
            "    },\n",
            "    \"credit_utilization\": 0.3\n",
            "  },\n",
            "  {\n",
            "    \"applicant_name\": \"Emily Davis\",\n",
            "    \"ssn\": \"543-210-9876\",\n",
            "    \"dob\": \"1988-03-10\",\n",
            "    \"credit_score\": 650,\n",
            "    \"history_length\": 15,\n",
            "    \"payment_history\": {\n",
            "      \"on_time\": true,\n",
            "      \"late_payments\": false\n",
            "    },\n",
            "    \"credit_utilization\": 0.6\n",
            "  },\n",
            "  {\n",
            "    \"applicant_name\": \"David Wilson\",\n",
            "    \"ssn\": \"111-222-3333\",\n",
            "    \"dob\": \"1982-\n"
          ]
        }
      ],
      "source": [
        "from typing import List\n",
        "from IPython.display import display, Markdown, Latex\n",
        "from distilabel.llms import TransformersLLM\n",
        "from distilabel.pipeline import Pipeline\n",
        "from distilabel.steps import LoadDataFromDicts\n",
        "from distilabel.steps.tasks import TextGeneration  # Import TextGeneration\n",
        "\n",
        "def prepare_credit_history_prompt(count: int = 10):\n",
        "    prompt = f\"\"\"Generate {count} realistic credit history records in JSON format.\n",
        "        Each record should include:\n",
        "        - applicant_name (string)\n",
        "        - ssn (string, format: XXX-XX-XXXX)\n",
        "        - dob (string, format: YYYY-MM-DD)\n",
        "        - credit_score (integer, range: 600-850)\n",
        "        - history_length (integer, range: 1-20)\n",
        "        - payment_history (object with on_time and late_payments)\n",
        "        - credit_utilization (float, range: 0.1-0.8)\n",
        "\n",
        "        Return as a JSON array of objects without any extra text or explanation.\"\"\"\n",
        "    return prompt\n",
        "\n",
        "# Assuming 'model_name' is already defined, e.g., \"google/gemma-2-2b-it\"\n",
        "\n",
        "credit_history_prompt = prepare_credit_history_prompt(count=10)\n",
        "\n",
        "# Prepare data for the pipeline\n",
        "data = [{\"instruction\": credit_history_prompt}]  # Use the credit history prompt\n",
        "\n",
        "with Pipeline() as custom_pipeline:\n",
        "    load_data = LoadDataFromDicts(name=\"load_data\", data=data)\n",
        "    text_generation = TextGeneration(\n",
        "        llm=TransformersLLM(\n",
        "            model=model_name,\n",
        "            generation_kwargs={\"max_new_tokens\": 512}  # Adjust as needed\n",
        "        )\n",
        "    )\n",
        "    load_data >> text_generation\n",
        "\n",
        "custom_output = custom_pipeline.run()\n",
        "\n",
        "# Extract and display the generated credit history data\n",
        "credit_history_data = custom_output[\"default\"][\"train\"][0][\"generation\"]\n",
        "print(credit_history_data)  # Print the generated JSON data"
      ]
    },
    {
      "cell_type": "code",
      "execution_count": null,
      "metadata": {
        "colab": {
          "base_uri": "https://localhost:8080/",
          "height": 1000,
          "referenced_widgets": [
            "8816fdfb9f934c828e45d79ff14da510",
            "f2695fce56ef42cbae11d9960cbd6cc1",
            "d759b69d662e481a9d9323b1fa5fdf4e",
            "211d27c2d532455fa81fd6e7b56e1652",
            "d9d85eccef51490484e3f05d20e689f2",
            "5a5799a966d24d75bb2f3e62fa8030fa",
            "4ef8f43e562f4b87aefcb1e68266253d",
            "0743166c70f54f1d9e9a74cf12be72d1",
            "68aff918355a4c4482d6388186520cb3",
            "0c4501d172b94c71a642f68a85091675",
            "a38943e5ccb64ff9bf9330f235670b11"
          ]
        },
        "id": "eDI3YGYOVzwB",
        "outputId": "5221e5fe-61a6-46c3-a69e-d0ea44f25a10"
      },
      "outputs": [
        {
          "data": {
            "text/html": [
              "<pre style=\"white-space:pre;overflow-x:auto;line-height:normal;font-family:Menlo,'DejaVu Sans Mono',consolas,'Courier New',monospace\"><span style=\"color: #7fbfbf; text-decoration-color: #7fbfbf\">[04/05/25 09:45:53] </span><span style=\"color: #000080; text-decoration-color: #000080\">INFO    </span> <span style=\"font-weight: bold\">[</span><span style=\"color: #008000; text-decoration-color: #008000\">'distilabel.pipeline'</span><span style=\"font-weight: bold\">]</span> 📝 Pipeline data will be written to                <a href=\"file:///usr/local/lib/python3.11/dist-packages/distilabel/pipeline/base.py\" target=\"_blank\"><span style=\"color: #7f7f7f; text-decoration-color: #7f7f7f\">base.py</span></a><span style=\"color: #7f7f7f; text-decoration-color: #7f7f7f\">:</span><a href=\"file:///usr/local/lib/python3.11/dist-packages/distilabel/pipeline/base.py#866\" target=\"_blank\"><span style=\"color: #7f7f7f; text-decoration-color: #7f7f7f\">866</span></a>\n",
              "<span style=\"color: #7fbfbf; text-decoration-color: #7fbfbf\">                    </span>         <span style=\"color: #008000; text-decoration-color: #008000\">'/root/.cache/distilabel/pipelines/pipeline_load_data_text_generation_0/20</span> <span style=\"color: #7f7f7f; text-decoration-color: #7f7f7f\">           </span>\n",
              "<span style=\"color: #7fbfbf; text-decoration-color: #7fbfbf\">                    </span>         <span style=\"color: #008000; text-decoration-color: #008000\">f1ed8f53124e9d663e7cd3a90e46c439cbbcbb/executions/544bcee3f908c5efc232c742</span> <span style=\"color: #7f7f7f; text-decoration-color: #7f7f7f\">           </span>\n",
              "<span style=\"color: #7fbfbf; text-decoration-color: #7fbfbf\">                    </span>         <span style=\"color: #008000; text-decoration-color: #008000\">b644e888171e588d/data/steps_outputs'</span>                                       <span style=\"color: #7f7f7f; text-decoration-color: #7f7f7f\">           </span>\n",
              "</pre>\n"
            ],
            "text/plain": [
              "\u001b[2;36m[04/05/25 09:45:53]\u001b[0m\u001b[2;36m \u001b[0m\u001b[34mINFO    \u001b[0m \u001b[1m[\u001b[0m\u001b[32m'distilabel.pipeline'\u001b[0m\u001b[1m]\u001b[0m 📝 Pipeline data will be written to                \u001b]8;id=655029;file:///usr/local/lib/python3.11/dist-packages/distilabel/pipeline/base.py\u001b\\\u001b[2mbase.py\u001b[0m\u001b]8;;\u001b\\\u001b[2m:\u001b[0m\u001b]8;id=479861;file:///usr/local/lib/python3.11/dist-packages/distilabel/pipeline/base.py#866\u001b\\\u001b[2m866\u001b[0m\u001b]8;;\u001b\\\n",
              "\u001b[2;36m                    \u001b[0m         \u001b[32m'/root/.cache/distilabel/pipelines/pipeline_load_data_text_generation_0/20\u001b[0m \u001b[2m           \u001b[0m\n",
              "\u001b[2;36m                    \u001b[0m         \u001b[32mf1ed8f53124e9d663e7cd3a90e46c439cbbcbb/executions/544bcee3f908c5efc232c742\u001b[0m \u001b[2m           \u001b[0m\n",
              "\u001b[2;36m                    \u001b[0m         \u001b[32mb644e888171e588d/data/steps_outputs'\u001b[0m                                       \u001b[2m           \u001b[0m\n"
            ]
          },
          "metadata": {},
          "output_type": "display_data"
        },
        {
          "data": {
            "text/html": [
              "<pre style=\"white-space:pre;overflow-x:auto;line-height:normal;font-family:Menlo,'DejaVu Sans Mono',consolas,'Courier New',monospace\"><span style=\"color: #7fbfbf; text-decoration-color: #7fbfbf\">                    </span><span style=\"color: #000080; text-decoration-color: #000080\">INFO    </span> <span style=\"font-weight: bold\">[</span><span style=\"color: #008000; text-decoration-color: #008000\">'distilabel.pipeline'</span><span style=\"font-weight: bold\">]</span> ⌛ The steps of the pipeline will be loaded in     <a href=\"file:///usr/local/lib/python3.11/dist-packages/distilabel/pipeline/base.py\" target=\"_blank\"><span style=\"color: #7f7f7f; text-decoration-color: #7f7f7f\">base.py</span></a><span style=\"color: #7f7f7f; text-decoration-color: #7f7f7f\">:</span><a href=\"file:///usr/local/lib/python3.11/dist-packages/distilabel/pipeline/base.py#889\" target=\"_blank\"><span style=\"color: #7f7f7f; text-decoration-color: #7f7f7f\">889</span></a>\n",
              "<span style=\"color: #7fbfbf; text-decoration-color: #7fbfbf\">                    </span>         stages:                                                                    <span style=\"color: #7f7f7f; text-decoration-color: #7f7f7f\">           </span>\n",
              "<span style=\"color: #7fbfbf; text-decoration-color: #7fbfbf\">                    </span>          * Stage <span style=\"color: #008080; text-decoration-color: #008080; font-weight: bold\">0</span>:                                                                <span style=\"color: #7f7f7f; text-decoration-color: #7f7f7f\">           </span>\n",
              "<span style=\"color: #7fbfbf; text-decoration-color: #7fbfbf\">                    </span>            - <span style=\"color: #008000; text-decoration-color: #008000\">'load_data'</span> <span style=\"font-weight: bold\">(</span>results cached, won't be loaded and executed<span style=\"font-weight: bold\">)</span>            <span style=\"color: #7f7f7f; text-decoration-color: #7f7f7f\">           </span>\n",
              "<span style=\"color: #7fbfbf; text-decoration-color: #7fbfbf\">                    </span>            - <span style=\"color: #008000; text-decoration-color: #008000\">'text_generation_0'</span>                                                   <span style=\"color: #7f7f7f; text-decoration-color: #7f7f7f\">           </span>\n",
              "</pre>\n"
            ],
            "text/plain": [
              "\u001b[2;36m                   \u001b[0m\u001b[2;36m \u001b[0m\u001b[34mINFO    \u001b[0m \u001b[1m[\u001b[0m\u001b[32m'distilabel.pipeline'\u001b[0m\u001b[1m]\u001b[0m ⌛ The steps of the pipeline will be loaded in     \u001b]8;id=731292;file:///usr/local/lib/python3.11/dist-packages/distilabel/pipeline/base.py\u001b\\\u001b[2mbase.py\u001b[0m\u001b]8;;\u001b\\\u001b[2m:\u001b[0m\u001b]8;id=508312;file:///usr/local/lib/python3.11/dist-packages/distilabel/pipeline/base.py#889\u001b\\\u001b[2m889\u001b[0m\u001b]8;;\u001b\\\n",
              "\u001b[2;36m                    \u001b[0m         stages:                                                                    \u001b[2m           \u001b[0m\n",
              "\u001b[2;36m                    \u001b[0m          * Stage \u001b[1;36m0\u001b[0m:                                                                \u001b[2m           \u001b[0m\n",
              "\u001b[2;36m                    \u001b[0m            - \u001b[32m'load_data'\u001b[0m \u001b[1m(\u001b[0mresults cached, won't be loaded and executed\u001b[1m)\u001b[0m            \u001b[2m           \u001b[0m\n",
              "\u001b[2;36m                    \u001b[0m            - \u001b[32m'text_generation_0'\u001b[0m                                                   \u001b[2m           \u001b[0m\n"
            ]
          },
          "metadata": {},
          "output_type": "display_data"
        },
        {
          "data": {
            "text/html": [
              "<pre style=\"white-space:pre;overflow-x:auto;line-height:normal;font-family:Menlo,'DejaVu Sans Mono',consolas,'Courier New',monospace\"><span style=\"color: #7fbfbf; text-decoration-color: #7fbfbf\">                    </span><span style=\"color: #000080; text-decoration-color: #000080\">INFO    </span> <span style=\"font-weight: bold\">[</span><span style=\"color: #008000; text-decoration-color: #008000\">'distilabel.pipeline'</span><span style=\"font-weight: bold\">]</span> ⏳ Waiting for all the steps of stage <span style=\"color: #008080; text-decoration-color: #008080; font-weight: bold\">0</span> to        <a href=\"file:///usr/local/lib/python3.11/dist-packages/distilabel/pipeline/base.py\" target=\"_blank\"><span style=\"color: #7f7f7f; text-decoration-color: #7f7f7f\">base.py</span></a><span style=\"color: #7f7f7f; text-decoration-color: #7f7f7f\">:</span><a href=\"file:///usr/local/lib/python3.11/dist-packages/distilabel/pipeline/base.py#1183\" target=\"_blank\"><span style=\"color: #7f7f7f; text-decoration-color: #7f7f7f\">1183</span></a>\n",
              "<span style=\"color: #7fbfbf; text-decoration-color: #7fbfbf\">                    </span>         load<span style=\"color: #808000; text-decoration-color: #808000\">...</span>                                                                   <span style=\"color: #7f7f7f; text-decoration-color: #7f7f7f\">            </span>\n",
              "</pre>\n"
            ],
            "text/plain": [
              "\u001b[2;36m                   \u001b[0m\u001b[2;36m \u001b[0m\u001b[34mINFO    \u001b[0m \u001b[1m[\u001b[0m\u001b[32m'distilabel.pipeline'\u001b[0m\u001b[1m]\u001b[0m ⏳ Waiting for all the steps of stage \u001b[1;36m0\u001b[0m to        \u001b]8;id=891781;file:///usr/local/lib/python3.11/dist-packages/distilabel/pipeline/base.py\u001b\\\u001b[2mbase.py\u001b[0m\u001b]8;;\u001b\\\u001b[2m:\u001b[0m\u001b]8;id=293453;file:///usr/local/lib/python3.11/dist-packages/distilabel/pipeline/base.py#1183\u001b\\\u001b[2m1183\u001b[0m\u001b]8;;\u001b\\\n",
              "\u001b[2;36m                    \u001b[0m         load\u001b[33m...\u001b[0m                                                                   \u001b[2m            \u001b[0m\n"
            ]
          },
          "metadata": {},
          "output_type": "display_data"
        },
        {
          "name": "stderr",
          "output_type": "stream",
          "text": [
            "Device set to use cuda:0\n"
          ]
        },
        {
          "data": {
            "text/html": [
              "<pre style=\"white-space:pre;overflow-x:auto;line-height:normal;font-family:Menlo,'DejaVu Sans Mono',consolas,'Courier New',monospace\"><span style=\"color: #7fbfbf; text-decoration-color: #7fbfbf\">[04/05/25 09:46:13] </span><span style=\"color: #000080; text-decoration-color: #000080\">INFO    </span> <span style=\"font-weight: bold\">[</span><span style=\"color: #008000; text-decoration-color: #008000\">'distilabel.pipeline'</span><span style=\"font-weight: bold\">]</span> ⏳ Steps from stage <span style=\"color: #008080; text-decoration-color: #008080; font-weight: bold\">0</span> loaded: <span style=\"color: #008080; text-decoration-color: #008080; font-weight: bold\">1</span>/<span style=\"color: #008080; text-decoration-color: #008080; font-weight: bold\">1</span>                 <a href=\"file:///usr/local/lib/python3.11/dist-packages/distilabel/pipeline/base.py\" target=\"_blank\"><span style=\"color: #7f7f7f; text-decoration-color: #7f7f7f\">base.py</span></a><span style=\"color: #7f7f7f; text-decoration-color: #7f7f7f\">:</span><a href=\"file:///usr/local/lib/python3.11/dist-packages/distilabel/pipeline/base.py#1216\" target=\"_blank\"><span style=\"color: #7f7f7f; text-decoration-color: #7f7f7f\">1216</span></a>\n",
              "<span style=\"color: #7fbfbf; text-decoration-color: #7fbfbf\">                    </span>          * <span style=\"color: #008000; text-decoration-color: #008000\">'text_generation_0'</span> replicas: <span style=\"color: #008080; text-decoration-color: #008080; font-weight: bold\">1</span>/<span style=\"color: #008080; text-decoration-color: #008080; font-weight: bold\">1</span>                                      <span style=\"color: #7f7f7f; text-decoration-color: #7f7f7f\">            </span>\n",
              "</pre>\n"
            ],
            "text/plain": [
              "\u001b[2;36m[04/05/25 09:46:13]\u001b[0m\u001b[2;36m \u001b[0m\u001b[34mINFO    \u001b[0m \u001b[1m[\u001b[0m\u001b[32m'distilabel.pipeline'\u001b[0m\u001b[1m]\u001b[0m ⏳ Steps from stage \u001b[1;36m0\u001b[0m loaded: \u001b[1;36m1\u001b[0m/\u001b[1;36m1\u001b[0m                 \u001b]8;id=570876;file:///usr/local/lib/python3.11/dist-packages/distilabel/pipeline/base.py\u001b\\\u001b[2mbase.py\u001b[0m\u001b]8;;\u001b\\\u001b[2m:\u001b[0m\u001b]8;id=369567;file:///usr/local/lib/python3.11/dist-packages/distilabel/pipeline/base.py#1216\u001b\\\u001b[2m1216\u001b[0m\u001b]8;;\u001b\\\n",
              "\u001b[2;36m                    \u001b[0m          * \u001b[32m'text_generation_0'\u001b[0m replicas: \u001b[1;36m1\u001b[0m/\u001b[1;36m1\u001b[0m                                      \u001b[2m            \u001b[0m\n"
            ]
          },
          "metadata": {},
          "output_type": "display_data"
        },
        {
          "data": {
            "text/html": [
              "<pre style=\"white-space:pre;overflow-x:auto;line-height:normal;font-family:Menlo,'DejaVu Sans Mono',consolas,'Courier New',monospace\"><span style=\"color: #7fbfbf; text-decoration-color: #7fbfbf\">                    </span><span style=\"color: #000080; text-decoration-color: #000080\">INFO    </span> <span style=\"font-weight: bold\">[</span><span style=\"color: #008000; text-decoration-color: #008000\">'distilabel.pipeline'</span><span style=\"font-weight: bold\">]</span> ✅ All the steps from stage <span style=\"color: #008080; text-decoration-color: #008080; font-weight: bold\">0</span> have been loaded!   <a href=\"file:///usr/local/lib/python3.11/dist-packages/distilabel/pipeline/base.py\" target=\"_blank\"><span style=\"color: #7f7f7f; text-decoration-color: #7f7f7f\">base.py</span></a><span style=\"color: #7f7f7f; text-decoration-color: #7f7f7f\">:</span><a href=\"file:///usr/local/lib/python3.11/dist-packages/distilabel/pipeline/base.py#1220\" target=\"_blank\"><span style=\"color: #7f7f7f; text-decoration-color: #7f7f7f\">1220</span></a>\n",
              "</pre>\n"
            ],
            "text/plain": [
              "\u001b[2;36m                   \u001b[0m\u001b[2;36m \u001b[0m\u001b[34mINFO    \u001b[0m \u001b[1m[\u001b[0m\u001b[32m'distilabel.pipeline'\u001b[0m\u001b[1m]\u001b[0m ✅ All the steps from stage \u001b[1;36m0\u001b[0m have been loaded!   \u001b]8;id=240353;file:///usr/local/lib/python3.11/dist-packages/distilabel/pipeline/base.py\u001b\\\u001b[2mbase.py\u001b[0m\u001b]8;;\u001b\\\u001b[2m:\u001b[0m\u001b]8;id=869219;file:///usr/local/lib/python3.11/dist-packages/distilabel/pipeline/base.py#1220\u001b\\\u001b[2m1220\u001b[0m\u001b]8;;\u001b\\\n"
            ]
          },
          "metadata": {},
          "output_type": "display_data"
        },
        {
          "data": {
            "text/html": [
              "<pre style=\"white-space:pre;overflow-x:auto;line-height:normal;font-family:Menlo,'DejaVu Sans Mono',consolas,'Courier New',monospace\"><span style=\"color: #7fbfbf; text-decoration-color: #7fbfbf\">                    </span><span style=\"color: #000080; text-decoration-color: #000080\">INFO    </span> <span style=\"font-weight: bold\">[</span><span style=\"color: #008000; text-decoration-color: #008000\">'distilabel.step.text_generation_0'</span><span style=\"font-weight: bold\">]</span> 📦 Processing batch <span style=\"color: #008080; text-decoration-color: #008080; font-weight: bold\">0</span> in     <a href=\"file:///usr/local/lib/python3.11/dist-packages/distilabel/pipeline/step_wrapper.py\" target=\"_blank\"><span style=\"color: #7f7f7f; text-decoration-color: #7f7f7f\">step_wrapper.py</span></a><span style=\"color: #7f7f7f; text-decoration-color: #7f7f7f\">:</span><a href=\"file:///usr/local/lib/python3.11/dist-packages/distilabel/pipeline/step_wrapper.py#229\" target=\"_blank\"><span style=\"color: #7f7f7f; text-decoration-color: #7f7f7f\">229</span></a>\n",
              "<span style=\"color: #7fbfbf; text-decoration-color: #7fbfbf\">                    </span>         <span style=\"color: #008000; text-decoration-color: #008000\">'text_generation_0'</span> <span style=\"font-weight: bold\">(</span>replica ID: <span style=\"color: #008080; text-decoration-color: #008080; font-weight: bold\">0</span><span style=\"font-weight: bold\">)</span>                                <span style=\"color: #7f7f7f; text-decoration-color: #7f7f7f\">                   </span>\n",
              "</pre>\n"
            ],
            "text/plain": [
              "\u001b[2;36m                   \u001b[0m\u001b[2;36m \u001b[0m\u001b[34mINFO    \u001b[0m \u001b[1m[\u001b[0m\u001b[32m'distilabel.step.text_generation_0'\u001b[0m\u001b[1m]\u001b[0m 📦 Processing batch \u001b[1;36m0\u001b[0m in     \u001b]8;id=595955;file:///usr/local/lib/python3.11/dist-packages/distilabel/pipeline/step_wrapper.py\u001b\\\u001b[2mstep_wrapper.py\u001b[0m\u001b]8;;\u001b\\\u001b[2m:\u001b[0m\u001b]8;id=221279;file:///usr/local/lib/python3.11/dist-packages/distilabel/pipeline/step_wrapper.py#229\u001b\\\u001b[2m229\u001b[0m\u001b]8;;\u001b\\\n",
              "\u001b[2;36m                    \u001b[0m         \u001b[32m'text_generation_0'\u001b[0m \u001b[1m(\u001b[0mreplica ID: \u001b[1;36m0\u001b[0m\u001b[1m)\u001b[0m                                \u001b[2m                   \u001b[0m\n"
            ]
          },
          "metadata": {},
          "output_type": "display_data"
        },
        {
          "data": {
            "text/html": [
              "<pre style=\"white-space:pre;overflow-x:auto;line-height:normal;font-family:Menlo,'DejaVu Sans Mono',consolas,'Courier New',monospace\"><span style=\"color: #7fbfbf; text-decoration-color: #7fbfbf\">[04/05/25 09:47:29] </span><span style=\"color: #000080; text-decoration-color: #000080\">INFO    </span> <span style=\"font-weight: bold\">[</span><span style=\"color: #008000; text-decoration-color: #008000\">'distilabel.step.text_generation_0'</span><span style=\"font-weight: bold\">]</span> 📨 Step <span style=\"color: #008000; text-decoration-color: #008000\">'text_generation_0'</span>  <a href=\"file:///usr/local/lib/python3.11/dist-packages/distilabel/pipeline/step_wrapper.py\" target=\"_blank\"><span style=\"color: #7f7f7f; text-decoration-color: #7f7f7f\">step_wrapper.py</span></a><span style=\"color: #7f7f7f; text-decoration-color: #7f7f7f\">:</span><a href=\"file:///usr/local/lib/python3.11/dist-packages/distilabel/pipeline/step_wrapper.py#289\" target=\"_blank\"><span style=\"color: #7f7f7f; text-decoration-color: #7f7f7f\">289</span></a>\n",
              "<span style=\"color: #7fbfbf; text-decoration-color: #7fbfbf\">                    </span>         sending batch <span style=\"color: #008080; text-decoration-color: #008080; font-weight: bold\">0</span> to output queue                                    <span style=\"color: #7f7f7f; text-decoration-color: #7f7f7f\">                   </span>\n",
              "</pre>\n"
            ],
            "text/plain": [
              "\u001b[2;36m[04/05/25 09:47:29]\u001b[0m\u001b[2;36m \u001b[0m\u001b[34mINFO    \u001b[0m \u001b[1m[\u001b[0m\u001b[32m'distilabel.step.text_generation_0'\u001b[0m\u001b[1m]\u001b[0m 📨 Step \u001b[32m'text_generation_0'\u001b[0m  \u001b]8;id=192942;file:///usr/local/lib/python3.11/dist-packages/distilabel/pipeline/step_wrapper.py\u001b\\\u001b[2mstep_wrapper.py\u001b[0m\u001b]8;;\u001b\\\u001b[2m:\u001b[0m\u001b]8;id=891817;file:///usr/local/lib/python3.11/dist-packages/distilabel/pipeline/step_wrapper.py#289\u001b\\\u001b[2m289\u001b[0m\u001b]8;;\u001b\\\n",
              "\u001b[2;36m                    \u001b[0m         sending batch \u001b[1;36m0\u001b[0m to output queue                                    \u001b[2m                   \u001b[0m\n"
            ]
          },
          "metadata": {},
          "output_type": "display_data"
        },
        {
          "data": {
            "text/html": [
              "<pre style=\"white-space:pre;overflow-x:auto;line-height:normal;font-family:Menlo,'DejaVu Sans Mono',consolas,'Courier New',monospace\"><span style=\"color: #7fbfbf; text-decoration-color: #7fbfbf\">                    </span><span style=\"color: #000080; text-decoration-color: #000080\">INFO    </span> <span style=\"font-weight: bold\">[</span><span style=\"color: #008000; text-decoration-color: #008000\">'distilabel.step.text_generation_0'</span><span style=\"font-weight: bold\">]</span> 🏁 Finished running step     <a href=\"file:///usr/local/lib/python3.11/dist-packages/distilabel/pipeline/step_wrapper.py\" target=\"_blank\"><span style=\"color: #7f7f7f; text-decoration-color: #7f7f7f\">step_wrapper.py</span></a><span style=\"color: #7f7f7f; text-decoration-color: #7f7f7f\">:</span><a href=\"file:///usr/local/lib/python3.11/dist-packages/distilabel/pipeline/step_wrapper.py#129\" target=\"_blank\"><span style=\"color: #7f7f7f; text-decoration-color: #7f7f7f\">129</span></a>\n",
              "<span style=\"color: #7fbfbf; text-decoration-color: #7fbfbf\">                    </span>         <span style=\"color: #008000; text-decoration-color: #008000\">'text_generation_0'</span> <span style=\"font-weight: bold\">(</span>replica ID: <span style=\"color: #008080; text-decoration-color: #008080; font-weight: bold\">0</span><span style=\"font-weight: bold\">)</span>                                <span style=\"color: #7f7f7f; text-decoration-color: #7f7f7f\">                   </span>\n",
              "</pre>\n"
            ],
            "text/plain": [
              "\u001b[2;36m                   \u001b[0m\u001b[2;36m \u001b[0m\u001b[34mINFO    \u001b[0m \u001b[1m[\u001b[0m\u001b[32m'distilabel.step.text_generation_0'\u001b[0m\u001b[1m]\u001b[0m 🏁 Finished running step     \u001b]8;id=384203;file:///usr/local/lib/python3.11/dist-packages/distilabel/pipeline/step_wrapper.py\u001b\\\u001b[2mstep_wrapper.py\u001b[0m\u001b]8;;\u001b\\\u001b[2m:\u001b[0m\u001b]8;id=203526;file:///usr/local/lib/python3.11/dist-packages/distilabel/pipeline/step_wrapper.py#129\u001b\\\u001b[2m129\u001b[0m\u001b]8;;\u001b\\\n",
              "\u001b[2;36m                    \u001b[0m         \u001b[32m'text_generation_0'\u001b[0m \u001b[1m(\u001b[0mreplica ID: \u001b[1;36m0\u001b[0m\u001b[1m)\u001b[0m                                \u001b[2m                   \u001b[0m\n"
            ]
          },
          "metadata": {},
          "output_type": "display_data"
        },
        {
          "data": {
            "application/vnd.jupyter.widget-view+json": {
              "model_id": "8816fdfb9f934c828e45d79ff14da510",
              "version_major": 2,
              "version_minor": 0
            },
            "text/plain": [
              "Generating train split: 0 examples [00:00, ? examples/s]"
            ]
          },
          "metadata": {},
          "output_type": "display_data"
        },
        {
          "name": "stdout",
          "output_type": "stream",
          "text": [
            "```json\n",
            "[\n",
            "  {\n",
            "    \"applicant_name\": \"John Doe\",\n",
            "    \"ssn\": \"456-789-1234\",\n",
            "    \"dob\": \"1990-01-15\",\n",
            "    \"credit_score\": 730,\n",
            "    \"history_length\": 7,\n",
            "    \"payment_history\": {\n",
            "      \"on_time\": true,\n",
            "      \"late_payments\": false\n",
            "    },\n",
            "    \"credit_utilization\": 0.25\n",
            "  },\n",
            "  {\n",
            "    \"applicant_name\": \"Jane Smith\",\n",
            "    \"ssn\": \"123-456-7890\",\n",
            "    \"dob\": \"1985-05-20\",\n",
            "    \"credit_score\": 680,\n",
            "    \"history_length\": 12,\n",
            "    \"payment_history\": {\n",
            "      \"on_time\": true,\n",
            "      \"late_payments\": false\n",
            "    },\n",
            "    \"credit_utilization\": 0.5\n",
            "  },\n",
            "  {\n",
            "    \"applicant_name\": \"Michael Brown\",\n",
            "    \"ssn\": \"987-654-3210\",\n",
            "    \"dob\": \"1995-09-01\",\n",
            "    \"credit_score\": 780,\n",
            "    \"history_length\": 10,\n",
            "    \"payment_history\": {\n",
            "      \"on_time\": true,\n",
            "      \"late_payments\": false\n",
            "    },\n",
            "    \"credit_utilization\": 0.3\n",
            "  },\n",
            "  {\n",
            "    \"applicant_name\": \"Emily Davis\",\n",
            "    \"ssn\": \"543-210-9876\",\n",
            "    \"dob\": \"1988-03-10\",\n",
            "    \"credit_score\": 650,\n",
            "    \"history_length\": 15,\n",
            "    \"payment_history\": {\n",
            "      \"on_time\": true,\n",
            "      \"late_payments\": false\n",
            "    },\n",
            "    \"credit_utilization\": 0.6\n",
            "  },\n",
            "  {\n",
            "    \"applicant_name\": \"David Wilson\",\n",
            "    \"ssn\": \"111-222-3333\",\n",
            "    \"dob\": \"1982-07-05\",\n",
            "    \"credit_score\": 720,\n",
            "    \"history_length\": 18,\n",
            "    \"payment_history\": {\n",
            "      \"on_time\": true,\n",
            "      \"late_payments\": false\n",
            "    },\n",
            "    \"credit_utilization\": 0.4\n",
            "  },\n",
            "  {\n",
            "    \"applicant_name\": \"Sarah Jones\",\n",
            "    \"ssn\": \"789-567-4561\",\n",
            "    \"dob\": \"1992-12-22\",\n",
            "    \"credit_score\": 620,\n",
            "    \"history_length\": 5,\n",
            "    \"payment_history\": {\n",
            "      \"on_time\": true,\n",
            "      \"late_payments\": false\n",
            "    },\n",
            "    \"credit_utilization\": 0.7\n",
            "  },\n",
            "  {\n",
            "    \"applicant_name\": \"Christopher Garcia\",\n",
            "    \"ssn\": \"456-789-0123\",\n",
            "    \"dob\": \"1989-04-01\",\n",
            "    \"credit_score\": 750,\n",
            "    \"history_length\": 11,\n",
            "    \"payment_history\": {\n",
            "      \"on_time\": true,\n",
            "      \"late_payments\": false\n",
            "    },\n",
            "    \"credit_utilization\": 0.65\n",
            "  },\n",
            "  {\n",
            "    \"applicant_name\": \"Ashley Rodriguez\",\n",
            "    \"ssn\": \"123-456-7890\",\n",
            "    \"dob\": \"1997-08-15\",\n",
            "    \"credit_score\": 670,\n",
            "    \"history_length\": 9,\n",
            "    \"payment_history\": {\n",
            "      \"on_time\": true,\n",
            "      \"late_payments\": false\n",
            "    },\n",
            "    \"credit_utilization\": 0.45\n",
            "  },\n",
            "  {\n",
            "    \"applicant_name\": \"Matthew Miller\",\n",
            "    \"ssn\": \"987-654-3210\",\n",
            "    \"dob\": \"1986-02-10\",\n",
            "    \"credit_score\": 700,\n",
            "    \"history_length\": 16,\n",
            "    \"payment_history\": {\n",
            "      \"on_time\": true,\n",
            "      \"late_payments\": false\n",
            "    },\n",
            "    \"credit_utilization\": 0.7\n",
            "  },\n",
            "  {\n",
            "    \"applicant_name\": \"Amanda Thomas\",\n",
            "    \"ssn\": \"543-210-9876\",\n",
            "    \"dob\": \"1993-09-25\",\n",
            "    \"credit_score\": 690,\n",
            "    \"history_length\": 14,\n",
            "    \"payment_history\": {\n",
            "      \"on_time\": true,\n",
            "      \"late_payments\": false\n",
            "    },\n",
            "    \"credit_utilization\": 0.55\n",
            "  }\n",
            "]\n",
            "```\n"
          ]
        }
      ],
      "source": [
        "from typing import List\n",
        "from IPython.display import display, Markdown, Latex\n",
        "from distilabel.llms import TransformersLLM\n",
        "from distilabel.pipeline import Pipeline\n",
        "from distilabel.steps import LoadDataFromDicts\n",
        "from distilabel.steps.tasks import TextGeneration  # Import TextGeneration\n",
        "\n",
        "def prepare_credit_history_prompt(count: int = 10):\n",
        "    prompt = f\"\"\"Generate {count} realistic credit history records in JSON format.\n",
        "        Each record should include:\n",
        "        - applicant_name (string)\n",
        "        - ssn (string, format: XXX-XX-XXXX)\n",
        "        - dob (string, format: YYYY-MM-DD)\n",
        "        - credit_score (integer, range: 600-850)\n",
        "        - history_length (integer, range: 1-20)\n",
        "        - payment_history (object with on_time and late_payments)\n",
        "        - credit_utilization (float, range: 0.1-0.8)\n",
        "\n",
        "        Return as a JSON array of objects without any extra text or explanation.\"\"\"\n",
        "    return prompt\n",
        "\n",
        "# Assuming 'model_name' is already defined, e.g., \"google/gemma-2-2b-it\"\n",
        "\n",
        "credit_history_prompt = prepare_credit_history_prompt(count=20)\n",
        "\n",
        "# Prepare data for the pipeline\n",
        "data = [{\"instruction\": credit_history_prompt}]  # Use the credit history prompt\n",
        "\n",
        "with Pipeline() as custom_pipeline:\n",
        "    load_data = LoadDataFromDicts(name=\"load_data\", data=data)\n",
        "    text_generation = TextGeneration(\n",
        "        llm=TransformersLLM(\n",
        "            model=model_name,\n",
        "            generation_kwargs={\"max_new_tokens\": 3012}  # Adjust as needed\n",
        "        )\n",
        "    )\n",
        "    load_data >> text_generation\n",
        "\n",
        "custom_output = custom_pipeline.run()\n",
        "\n",
        "# Extract and display the generated credit history data\n",
        "credit_history_data = custom_output[\"default\"][\"train\"][0][\"generation\"]\n",
        "print(credit_history_data)  # Print the generated JSON data"
      ]
    },
    {
      "cell_type": "code",
      "execution_count": null,
      "metadata": {
        "id": "6qhR5oiWR4PW"
      },
      "outputs": [],
      "source": [
        "from typing import List\n",
        "from IPython.display import display, Markdown, Latex\n",
        "from distilabel.llms import TransformersLLM\n",
        "from distilabel.pipeline import Pipeline\n",
        "from distilabel.steps import LoadDataFromDicts\n",
        "from distilabel.steps.tasks import TextGeneration  # Import TextGeneration\n",
        "\n",
        "def generate_claims_history_prompt(count: int = 10):\n",
        "    prompt = f\"\"\"Generate {count} realistic insurance claims records in JSON format.\n",
        "        Each record should include:\n",
        "        - claim_id (string, format: CLMXXXXX)\n",
        "        - date (string, ISO format)\n",
        "        - type (string: collision/comprehensive/liability)\n",
        "        - amount (float, range: 1000-50000)\n",
        "        - status (string: paid/closed/pending)\n",
        "\n",
        "        Return as a JSON array of objects without any extra text or explanation.\"\"\"\n",
        "    return prompt\n",
        "\n",
        "# Assuming 'model_name' is already defined, e.g., \"google/gemma-2-2b-it\"\n",
        "\n",
        "claims_history_prompt = generate_claims_history_prompt(count=10)\n",
        "\n",
        "# Prepare data for the pipeline\n",
        "data = [{\"instruction\": claims_history_prompt}]  # Use the credit history prompt\n",
        "\n",
        "with Pipeline() as custom_pipeline:\n",
        "    load_data = LoadDataFromDicts(name=\"load_data\", data=data)\n",
        "    text_generation = TextGeneration(\n",
        "        llm=TransformersLLM(\n",
        "            model=model_name,\n",
        "            generation_kwargs={\"max_new_tokens\": 512}  # Adjust as needed\n",
        "        )\n",
        "    )\n",
        "    load_data >> text_generation\n",
        "\n",
        "custom_output = custom_pipeline.run()\n",
        "\n",
        "# Extract and display the generated credit history data\n",
        "claims_history_data = custom_output[\"default\"][\"train\"][0][\"generation\"]\n",
        "print(credit_history_data)  # Print the generated JSON data"
      ]
    },
    {
      "cell_type": "code",
      "execution_count": null,
      "metadata": {
        "id": "XtTGT0N1S_LZ"
      },
      "outputs": [],
      "source": []
    },
    {
      "cell_type": "code",
      "execution_count": null,
      "metadata": {
        "id": "ze6xUMKKS_Pf"
      },
      "outputs": [],
      "source": []
    },
    {
      "cell_type": "code",
      "execution_count": null,
      "metadata": {
        "id": "nLLh1qNYR4Sw"
      },
      "outputs": [],
      "source": []
    }
  ],
  "metadata": {
    "accelerator": "GPU",
    "colab": {
      "gpuType": "T4",
      "provenance": []
    },
    "kernelspec": {
      "display_name": "Python 3",
      "name": "python3"
    },
    "language_info": {
      "name": "python"
    },
    "widgets": {
      "application/vnd.jupyter.widget-state+json": {
        "012386b0c0ae480ab01c43939f3e92c2": {
          "model_module": "@jupyter-widgets/base",
          "model_module_version": "1.2.0",
          "model_name": "LayoutModel",
          "state": {
            "_model_module": "@jupyter-widgets/base",
            "_model_module_version": "1.2.0",
            "_model_name": "LayoutModel",
            "_view_count": null,
            "_view_module": "@jupyter-widgets/base",
            "_view_module_version": "1.2.0",
            "_view_name": "LayoutView",
            "align_content": null,
            "align_items": null,
            "align_self": null,
            "border": null,
            "bottom": null,
            "display": null,
            "flex": null,
            "flex_flow": null,
            "grid_area": null,
            "grid_auto_columns": null,
            "grid_auto_flow": null,
            "grid_auto_rows": null,
            "grid_column": null,
            "grid_gap": null,
            "grid_row": null,
            "grid_template_areas": null,
            "grid_template_columns": null,
            "grid_template_rows": null,
            "height": null,
            "justify_content": null,
            "justify_items": null,
            "left": null,
            "margin": null,
            "max_height": null,
            "max_width": null,
            "min_height": null,
            "min_width": null,
            "object_fit": null,
            "object_position": null,
            "order": null,
            "overflow": null,
            "overflow_x": null,
            "overflow_y": null,
            "padding": null,
            "right": null,
            "top": null,
            "visibility": null,
            "width": "20px"
          }
        },
        "0743166c70f54f1d9e9a74cf12be72d1": {
          "model_module": "@jupyter-widgets/base",
          "model_module_version": "1.2.0",
          "model_name": "LayoutModel",
          "state": {
            "_model_module": "@jupyter-widgets/base",
            "_model_module_version": "1.2.0",
            "_model_name": "LayoutModel",
            "_view_count": null,
            "_view_module": "@jupyter-widgets/base",
            "_view_module_version": "1.2.0",
            "_view_name": "LayoutView",
            "align_content": null,
            "align_items": null,
            "align_self": null,
            "border": null,
            "bottom": null,
            "display": null,
            "flex": null,
            "flex_flow": null,
            "grid_area": null,
            "grid_auto_columns": null,
            "grid_auto_flow": null,
            "grid_auto_rows": null,
            "grid_column": null,
            "grid_gap": null,
            "grid_row": null,
            "grid_template_areas": null,
            "grid_template_columns": null,
            "grid_template_rows": null,
            "height": null,
            "justify_content": null,
            "justify_items": null,
            "left": null,
            "margin": null,
            "max_height": null,
            "max_width": null,
            "min_height": null,
            "min_width": null,
            "object_fit": null,
            "object_position": null,
            "order": null,
            "overflow": null,
            "overflow_x": null,
            "overflow_y": null,
            "padding": null,
            "right": null,
            "top": null,
            "visibility": null,
            "width": "20px"
          }
        },
        "083b2d9980c14e3da1aea888c46487da": {
          "model_module": "@jupyter-widgets/controls",
          "model_module_version": "1.5.0",
          "model_name": "HBoxModel",
          "state": {
            "_dom_classes": [],
            "_model_module": "@jupyter-widgets/controls",
            "_model_module_version": "1.5.0",
            "_model_name": "HBoxModel",
            "_view_count": null,
            "_view_module": "@jupyter-widgets/controls",
            "_view_module_version": "1.5.0",
            "_view_name": "HBoxView",
            "box_style": "",
            "children": [
              "IPY_MODEL_23a74ecc8e8646cda97bd4d45dff83fd",
              "IPY_MODEL_4a2642254f504279880193752221a816",
              "IPY_MODEL_2f59a4f9e6604460b9c309fcbec65a17"
            ],
            "layout": "IPY_MODEL_f281ca17c6f2419493cead04d4d1cfd8"
          }
        },
        "0c4501d172b94c71a642f68a85091675": {
          "model_module": "@jupyter-widgets/base",
          "model_module_version": "1.2.0",
          "model_name": "LayoutModel",
          "state": {
            "_model_module": "@jupyter-widgets/base",
            "_model_module_version": "1.2.0",
            "_model_name": "LayoutModel",
            "_view_count": null,
            "_view_module": "@jupyter-widgets/base",
            "_view_module_version": "1.2.0",
            "_view_name": "LayoutView",
            "align_content": null,
            "align_items": null,
            "align_self": null,
            "border": null,
            "bottom": null,
            "display": null,
            "flex": null,
            "flex_flow": null,
            "grid_area": null,
            "grid_auto_columns": null,
            "grid_auto_flow": null,
            "grid_auto_rows": null,
            "grid_column": null,
            "grid_gap": null,
            "grid_row": null,
            "grid_template_areas": null,
            "grid_template_columns": null,
            "grid_template_rows": null,
            "height": null,
            "justify_content": null,
            "justify_items": null,
            "left": null,
            "margin": null,
            "max_height": null,
            "max_width": null,
            "min_height": null,
            "min_width": null,
            "object_fit": null,
            "object_position": null,
            "order": null,
            "overflow": null,
            "overflow_x": null,
            "overflow_y": null,
            "padding": null,
            "right": null,
            "top": null,
            "visibility": null,
            "width": null
          }
        },
        "211d27c2d532455fa81fd6e7b56e1652": {
          "model_module": "@jupyter-widgets/controls",
          "model_module_version": "1.5.0",
          "model_name": "HTMLModel",
          "state": {
            "_dom_classes": [],
            "_model_module": "@jupyter-widgets/controls",
            "_model_module_version": "1.5.0",
            "_model_name": "HTMLModel",
            "_view_count": null,
            "_view_module": "@jupyter-widgets/controls",
            "_view_module_version": "1.5.0",
            "_view_name": "HTMLView",
            "description": "",
            "description_tooltip": null,
            "layout": "IPY_MODEL_0c4501d172b94c71a642f68a85091675",
            "placeholder": "​",
            "style": "IPY_MODEL_a38943e5ccb64ff9bf9330f235670b11",
            "value": " 1/0 [00:00&lt;00:00, 45.88 examples/s]"
          }
        },
        "23a74ecc8e8646cda97bd4d45dff83fd": {
          "model_module": "@jupyter-widgets/controls",
          "model_module_version": "1.5.0",
          "model_name": "HTMLModel",
          "state": {
            "_dom_classes": [],
            "_model_module": "@jupyter-widgets/controls",
            "_model_module_version": "1.5.0",
            "_model_name": "HTMLModel",
            "_view_count": null,
            "_view_module": "@jupyter-widgets/controls",
            "_view_module_version": "1.5.0",
            "_view_name": "HTMLView",
            "description": "",
            "description_tooltip": null,
            "layout": "IPY_MODEL_4ff786d8470e487ca4bc2474723750b7",
            "placeholder": "​",
            "style": "IPY_MODEL_f1c59b30501b4a5e9b33f3a0c196dcb7",
            "value": "Generating train split: "
          }
        },
        "2f59a4f9e6604460b9c309fcbec65a17": {
          "model_module": "@jupyter-widgets/controls",
          "model_module_version": "1.5.0",
          "model_name": "HTMLModel",
          "state": {
            "_dom_classes": [],
            "_model_module": "@jupyter-widgets/controls",
            "_model_module_version": "1.5.0",
            "_model_name": "HTMLModel",
            "_view_count": null,
            "_view_module": "@jupyter-widgets/controls",
            "_view_module_version": "1.5.0",
            "_view_name": "HTMLView",
            "description": "",
            "description_tooltip": null,
            "layout": "IPY_MODEL_bc4cfa53b3bf406199c09875f2d2a01d",
            "placeholder": "​",
            "style": "IPY_MODEL_6828d880f24841438c90d2661c7440de",
            "value": " 1/0 [00:00&lt;00:00, 40.10 examples/s]"
          }
        },
        "4a2642254f504279880193752221a816": {
          "model_module": "@jupyter-widgets/controls",
          "model_module_version": "1.5.0",
          "model_name": "FloatProgressModel",
          "state": {
            "_dom_classes": [],
            "_model_module": "@jupyter-widgets/controls",
            "_model_module_version": "1.5.0",
            "_model_name": "FloatProgressModel",
            "_view_count": null,
            "_view_module": "@jupyter-widgets/controls",
            "_view_module_version": "1.5.0",
            "_view_name": "ProgressView",
            "bar_style": "success",
            "description": "",
            "description_tooltip": null,
            "layout": "IPY_MODEL_012386b0c0ae480ab01c43939f3e92c2",
            "max": 1,
            "min": 0,
            "orientation": "horizontal",
            "style": "IPY_MODEL_afd4a92dfc374dbe99b16961fcb0a830",
            "value": 1
          }
        },
        "4ef8f43e562f4b87aefcb1e68266253d": {
          "model_module": "@jupyter-widgets/controls",
          "model_module_version": "1.5.0",
          "model_name": "DescriptionStyleModel",
          "state": {
            "_model_module": "@jupyter-widgets/controls",
            "_model_module_version": "1.5.0",
            "_model_name": "DescriptionStyleModel",
            "_view_count": null,
            "_view_module": "@jupyter-widgets/base",
            "_view_module_version": "1.2.0",
            "_view_name": "StyleView",
            "description_width": ""
          }
        },
        "4ff786d8470e487ca4bc2474723750b7": {
          "model_module": "@jupyter-widgets/base",
          "model_module_version": "1.2.0",
          "model_name": "LayoutModel",
          "state": {
            "_model_module": "@jupyter-widgets/base",
            "_model_module_version": "1.2.0",
            "_model_name": "LayoutModel",
            "_view_count": null,
            "_view_module": "@jupyter-widgets/base",
            "_view_module_version": "1.2.0",
            "_view_name": "LayoutView",
            "align_content": null,
            "align_items": null,
            "align_self": null,
            "border": null,
            "bottom": null,
            "display": null,
            "flex": null,
            "flex_flow": null,
            "grid_area": null,
            "grid_auto_columns": null,
            "grid_auto_flow": null,
            "grid_auto_rows": null,
            "grid_column": null,
            "grid_gap": null,
            "grid_row": null,
            "grid_template_areas": null,
            "grid_template_columns": null,
            "grid_template_rows": null,
            "height": null,
            "justify_content": null,
            "justify_items": null,
            "left": null,
            "margin": null,
            "max_height": null,
            "max_width": null,
            "min_height": null,
            "min_width": null,
            "object_fit": null,
            "object_position": null,
            "order": null,
            "overflow": null,
            "overflow_x": null,
            "overflow_y": null,
            "padding": null,
            "right": null,
            "top": null,
            "visibility": null,
            "width": null
          }
        },
        "5a5799a966d24d75bb2f3e62fa8030fa": {
          "model_module": "@jupyter-widgets/base",
          "model_module_version": "1.2.0",
          "model_name": "LayoutModel",
          "state": {
            "_model_module": "@jupyter-widgets/base",
            "_model_module_version": "1.2.0",
            "_model_name": "LayoutModel",
            "_view_count": null,
            "_view_module": "@jupyter-widgets/base",
            "_view_module_version": "1.2.0",
            "_view_name": "LayoutView",
            "align_content": null,
            "align_items": null,
            "align_self": null,
            "border": null,
            "bottom": null,
            "display": null,
            "flex": null,
            "flex_flow": null,
            "grid_area": null,
            "grid_auto_columns": null,
            "grid_auto_flow": null,
            "grid_auto_rows": null,
            "grid_column": null,
            "grid_gap": null,
            "grid_row": null,
            "grid_template_areas": null,
            "grid_template_columns": null,
            "grid_template_rows": null,
            "height": null,
            "justify_content": null,
            "justify_items": null,
            "left": null,
            "margin": null,
            "max_height": null,
            "max_width": null,
            "min_height": null,
            "min_width": null,
            "object_fit": null,
            "object_position": null,
            "order": null,
            "overflow": null,
            "overflow_x": null,
            "overflow_y": null,
            "padding": null,
            "right": null,
            "top": null,
            "visibility": null,
            "width": null
          }
        },
        "6828d880f24841438c90d2661c7440de": {
          "model_module": "@jupyter-widgets/controls",
          "model_module_version": "1.5.0",
          "model_name": "DescriptionStyleModel",
          "state": {
            "_model_module": "@jupyter-widgets/controls",
            "_model_module_version": "1.5.0",
            "_model_name": "DescriptionStyleModel",
            "_view_count": null,
            "_view_module": "@jupyter-widgets/base",
            "_view_module_version": "1.2.0",
            "_view_name": "StyleView",
            "description_width": ""
          }
        },
        "68aff918355a4c4482d6388186520cb3": {
          "model_module": "@jupyter-widgets/controls",
          "model_module_version": "1.5.0",
          "model_name": "ProgressStyleModel",
          "state": {
            "_model_module": "@jupyter-widgets/controls",
            "_model_module_version": "1.5.0",
            "_model_name": "ProgressStyleModel",
            "_view_count": null,
            "_view_module": "@jupyter-widgets/base",
            "_view_module_version": "1.2.0",
            "_view_name": "StyleView",
            "bar_color": null,
            "description_width": ""
          }
        },
        "8816fdfb9f934c828e45d79ff14da510": {
          "model_module": "@jupyter-widgets/controls",
          "model_module_version": "1.5.0",
          "model_name": "HBoxModel",
          "state": {
            "_dom_classes": [],
            "_model_module": "@jupyter-widgets/controls",
            "_model_module_version": "1.5.0",
            "_model_name": "HBoxModel",
            "_view_count": null,
            "_view_module": "@jupyter-widgets/controls",
            "_view_module_version": "1.5.0",
            "_view_name": "HBoxView",
            "box_style": "",
            "children": [
              "IPY_MODEL_f2695fce56ef42cbae11d9960cbd6cc1",
              "IPY_MODEL_d759b69d662e481a9d9323b1fa5fdf4e",
              "IPY_MODEL_211d27c2d532455fa81fd6e7b56e1652"
            ],
            "layout": "IPY_MODEL_d9d85eccef51490484e3f05d20e689f2"
          }
        },
        "a38943e5ccb64ff9bf9330f235670b11": {
          "model_module": "@jupyter-widgets/controls",
          "model_module_version": "1.5.0",
          "model_name": "DescriptionStyleModel",
          "state": {
            "_model_module": "@jupyter-widgets/controls",
            "_model_module_version": "1.5.0",
            "_model_name": "DescriptionStyleModel",
            "_view_count": null,
            "_view_module": "@jupyter-widgets/base",
            "_view_module_version": "1.2.0",
            "_view_name": "StyleView",
            "description_width": ""
          }
        },
        "afd4a92dfc374dbe99b16961fcb0a830": {
          "model_module": "@jupyter-widgets/controls",
          "model_module_version": "1.5.0",
          "model_name": "ProgressStyleModel",
          "state": {
            "_model_module": "@jupyter-widgets/controls",
            "_model_module_version": "1.5.0",
            "_model_name": "ProgressStyleModel",
            "_view_count": null,
            "_view_module": "@jupyter-widgets/base",
            "_view_module_version": "1.2.0",
            "_view_name": "StyleView",
            "bar_color": null,
            "description_width": ""
          }
        },
        "bc4cfa53b3bf406199c09875f2d2a01d": {
          "model_module": "@jupyter-widgets/base",
          "model_module_version": "1.2.0",
          "model_name": "LayoutModel",
          "state": {
            "_model_module": "@jupyter-widgets/base",
            "_model_module_version": "1.2.0",
            "_model_name": "LayoutModel",
            "_view_count": null,
            "_view_module": "@jupyter-widgets/base",
            "_view_module_version": "1.2.0",
            "_view_name": "LayoutView",
            "align_content": null,
            "align_items": null,
            "align_self": null,
            "border": null,
            "bottom": null,
            "display": null,
            "flex": null,
            "flex_flow": null,
            "grid_area": null,
            "grid_auto_columns": null,
            "grid_auto_flow": null,
            "grid_auto_rows": null,
            "grid_column": null,
            "grid_gap": null,
            "grid_row": null,
            "grid_template_areas": null,
            "grid_template_columns": null,
            "grid_template_rows": null,
            "height": null,
            "justify_content": null,
            "justify_items": null,
            "left": null,
            "margin": null,
            "max_height": null,
            "max_width": null,
            "min_height": null,
            "min_width": null,
            "object_fit": null,
            "object_position": null,
            "order": null,
            "overflow": null,
            "overflow_x": null,
            "overflow_y": null,
            "padding": null,
            "right": null,
            "top": null,
            "visibility": null,
            "width": null
          }
        },
        "d759b69d662e481a9d9323b1fa5fdf4e": {
          "model_module": "@jupyter-widgets/controls",
          "model_module_version": "1.5.0",
          "model_name": "FloatProgressModel",
          "state": {
            "_dom_classes": [],
            "_model_module": "@jupyter-widgets/controls",
            "_model_module_version": "1.5.0",
            "_model_name": "FloatProgressModel",
            "_view_count": null,
            "_view_module": "@jupyter-widgets/controls",
            "_view_module_version": "1.5.0",
            "_view_name": "ProgressView",
            "bar_style": "success",
            "description": "",
            "description_tooltip": null,
            "layout": "IPY_MODEL_0743166c70f54f1d9e9a74cf12be72d1",
            "max": 1,
            "min": 0,
            "orientation": "horizontal",
            "style": "IPY_MODEL_68aff918355a4c4482d6388186520cb3",
            "value": 1
          }
        },
        "d9d85eccef51490484e3f05d20e689f2": {
          "model_module": "@jupyter-widgets/base",
          "model_module_version": "1.2.0",
          "model_name": "LayoutModel",
          "state": {
            "_model_module": "@jupyter-widgets/base",
            "_model_module_version": "1.2.0",
            "_model_name": "LayoutModel",
            "_view_count": null,
            "_view_module": "@jupyter-widgets/base",
            "_view_module_version": "1.2.0",
            "_view_name": "LayoutView",
            "align_content": null,
            "align_items": null,
            "align_self": null,
            "border": null,
            "bottom": null,
            "display": null,
            "flex": null,
            "flex_flow": null,
            "grid_area": null,
            "grid_auto_columns": null,
            "grid_auto_flow": null,
            "grid_auto_rows": null,
            "grid_column": null,
            "grid_gap": null,
            "grid_row": null,
            "grid_template_areas": null,
            "grid_template_columns": null,
            "grid_template_rows": null,
            "height": null,
            "justify_content": null,
            "justify_items": null,
            "left": null,
            "margin": null,
            "max_height": null,
            "max_width": null,
            "min_height": null,
            "min_width": null,
            "object_fit": null,
            "object_position": null,
            "order": null,
            "overflow": null,
            "overflow_x": null,
            "overflow_y": null,
            "padding": null,
            "right": null,
            "top": null,
            "visibility": null,
            "width": null
          }
        },
        "f1c59b30501b4a5e9b33f3a0c196dcb7": {
          "model_module": "@jupyter-widgets/controls",
          "model_module_version": "1.5.0",
          "model_name": "DescriptionStyleModel",
          "state": {
            "_model_module": "@jupyter-widgets/controls",
            "_model_module_version": "1.5.0",
            "_model_name": "DescriptionStyleModel",
            "_view_count": null,
            "_view_module": "@jupyter-widgets/base",
            "_view_module_version": "1.2.0",
            "_view_name": "StyleView",
            "description_width": ""
          }
        },
        "f2695fce56ef42cbae11d9960cbd6cc1": {
          "model_module": "@jupyter-widgets/controls",
          "model_module_version": "1.5.0",
          "model_name": "HTMLModel",
          "state": {
            "_dom_classes": [],
            "_model_module": "@jupyter-widgets/controls",
            "_model_module_version": "1.5.0",
            "_model_name": "HTMLModel",
            "_view_count": null,
            "_view_module": "@jupyter-widgets/controls",
            "_view_module_version": "1.5.0",
            "_view_name": "HTMLView",
            "description": "",
            "description_tooltip": null,
            "layout": "IPY_MODEL_5a5799a966d24d75bb2f3e62fa8030fa",
            "placeholder": "​",
            "style": "IPY_MODEL_4ef8f43e562f4b87aefcb1e68266253d",
            "value": "Generating train split: "
          }
        },
        "f281ca17c6f2419493cead04d4d1cfd8": {
          "model_module": "@jupyter-widgets/base",
          "model_module_version": "1.2.0",
          "model_name": "LayoutModel",
          "state": {
            "_model_module": "@jupyter-widgets/base",
            "_model_module_version": "1.2.0",
            "_model_name": "LayoutModel",
            "_view_count": null,
            "_view_module": "@jupyter-widgets/base",
            "_view_module_version": "1.2.0",
            "_view_name": "LayoutView",
            "align_content": null,
            "align_items": null,
            "align_self": null,
            "border": null,
            "bottom": null,
            "display": null,
            "flex": null,
            "flex_flow": null,
            "grid_area": null,
            "grid_auto_columns": null,
            "grid_auto_flow": null,
            "grid_auto_rows": null,
            "grid_column": null,
            "grid_gap": null,
            "grid_row": null,
            "grid_template_areas": null,
            "grid_template_columns": null,
            "grid_template_rows": null,
            "height": null,
            "justify_content": null,
            "justify_items": null,
            "left": null,
            "margin": null,
            "max_height": null,
            "max_width": null,
            "min_height": null,
            "min_width": null,
            "object_fit": null,
            "object_position": null,
            "order": null,
            "overflow": null,
            "overflow_x": null,
            "overflow_y": null,
            "padding": null,
            "right": null,
            "top": null,
            "visibility": null,
            "width": null
          }
        }
      }
    }
  },
  "nbformat": 4,
  "nbformat_minor": 0
}